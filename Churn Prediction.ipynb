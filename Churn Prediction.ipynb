{
 "cells": [
  {
   "cell_type": "markdown",
   "id": "fossil-embassy",
   "metadata": {},
   "source": [
    "## İş Problemi\n",
    "\n",
    "***Şirketi terk edecek müşterileri tahmin edebilecek bir makine öğrenmesi modeli geliştirilmesi beklenmektedir.***"
   ]
  },
  {
   "cell_type": "markdown",
   "id": "aggregate-terrorist",
   "metadata": {},
   "source": [
    "## Veri Seti Hikayesi\n",
    "\n",
    "***10000 gözlemden ve 12 değişkenden oluşmaktadır.\n",
    "Bağımsız değişkenler müşterilere ilişkin bilgiler barındırmaktadır. Bağımlı değişken müşteri terk durumunu ifade etmektedir.***"
   ]
  },
  {
   "cell_type": "markdown",
   "id": "framed-grill",
   "metadata": {},
   "source": [
    "## Değişkenler\n",
    "\n",
    "**Surname – Soy isim**\n",
    "\n",
    "**CreditScore – Kredi skoru**\n",
    "\n",
    "**Geography – Ülke (Germany/France/Spain)**\n",
    "\n",
    "**Gender – Cinsiyet**\n",
    "\n",
    "**Age – Yaş**\n",
    "\n",
    "**Tenure – Kaç yıllık müşteri olduğu bilgisi** \n",
    "\n",
    "**NumOfProducts – Kullanılan banka ürünü**\n",
    "\n",
    "**HasCrCard – Kredi kartı durumu (0=No,1=Yes)** \n",
    "\n",
    "**IsActiveMember – Aktif üyelik durumu (0=No,1=Yes)**\n",
    "\n",
    "**EstimatedSalary – Tahmini maaş**\n",
    "\n",
    "**Exited: – Terk mi değil mi? (0=No,1=Yes)**"
   ]
  },
  {
   "cell_type": "markdown",
   "id": "wanted-trainer",
   "metadata": {},
   "source": [
    "## Görev\n",
    "\n",
    "**PySpark ile aşağıdaki adımları kapsayan bir makine öğrenmesi modeli kurunuz.**\n",
    "\n",
    "**▪ Exploratory Data Analysis**\n",
    "\n",
    "**▪ Data Preprocessing**\n",
    "\n",
    "**▪ Feature Engineering**\n",
    "\n",
    "**▪ Gradient Boosted Tree Classifier Model**\n",
    "\n",
    "**▪ Model Tuning**"
   ]
  },
  {
   "cell_type": "code",
   "execution_count": 1,
   "id": "liked-deposit",
   "metadata": {},
   "outputs": [],
   "source": [
    "from warnings import filterwarnings\n",
    "filterwarnings(\"ignore\" , category=FutureWarning)\n",
    "filterwarnings(\"ignore\" , category=DeprecationWarning) "
   ]
  },
  {
   "cell_type": "code",
   "execution_count": 2,
   "id": "tamil-stand",
   "metadata": {},
   "outputs": [],
   "source": [
    "import pandas as pd\n",
    "import numpy as np\n",
    "\n",
    "import findspark\n",
    "import pyspark\n",
    "from pyspark.sql import SparkSession"
   ]
  },
  {
   "cell_type": "code",
   "execution_count": 3,
   "id": "intermediate-worry",
   "metadata": {},
   "outputs": [],
   "source": [
    "pd.set_option(\"display.max_columns\", None)\n",
    "pd.set_option(\"display.float_format\" , lambda x : \"%.4f\" % x)\n",
    "pd.set_option(\"display.width\",200)"
   ]
  },
  {
   "cell_type": "code",
   "execution_count": 4,
   "id": "nervous-adapter",
   "metadata": {},
   "outputs": [],
   "source": [
    "findspark.init(\"/Users/gokhanersoz/spark\")"
   ]
  },
  {
   "cell_type": "code",
   "execution_count": 5,
   "id": "bound-voluntary",
   "metadata": {},
   "outputs": [],
   "source": [
    "spark = SparkSession.builder \\\n",
    "        .master(\"local\") \\\n",
    "        .appName(\"pyspark_churn\") \\\n",
    "        .getOrCreate()"
   ]
  },
  {
   "cell_type": "code",
   "execution_count": 6,
   "id": "excited-server",
   "metadata": {},
   "outputs": [
    {
     "data": {
      "text/html": [
       "\n",
       "        <div>\n",
       "            <p><b>SparkContext</b></p>\n",
       "\n",
       "            <p><a href=\"http://192.168.1.34:4040\">Spark UI</a></p>\n",
       "\n",
       "            <dl>\n",
       "              <dt>Version</dt>\n",
       "                <dd><code>v3.1.1</code></dd>\n",
       "              <dt>Master</dt>\n",
       "                <dd><code>local</code></dd>\n",
       "              <dt>AppName</dt>\n",
       "                <dd><code>pyspark_churn</code></dd>\n",
       "            </dl>\n",
       "        </div>\n",
       "        "
      ],
      "text/plain": [
       "<SparkContext master=local appName=pyspark_churn>"
      ]
     },
     "execution_count": 6,
     "metadata": {},
     "output_type": "execute_result"
    }
   ],
   "source": [
    "sc = spark.sparkContext\n",
    "sc"
   ]
  },
  {
   "cell_type": "code",
   "execution_count": 7,
   "id": "accredited-frost",
   "metadata": {},
   "outputs": [],
   "source": [
    "############################\n",
    "# Exploratory Data Analysis\n",
    "############################"
   ]
  },
  {
   "cell_type": "code",
   "execution_count": 8,
   "id": "champion-plastic",
   "metadata": {},
   "outputs": [],
   "source": [
    "# inferSchema False olursa bütün değerler string olarak geliyor !!!!\n",
    "\n",
    "spark_df = spark.read.csv(\"/Users/gokhanersoz/Desktop/Veri_Bilimi/Dersler/Hafta_11/churn2.csv\",\n",
    "                         header=True,inferSchema=True)"
   ]
  },
  {
   "cell_type": "code",
   "execution_count": 9,
   "id": "continental-victim",
   "metadata": {},
   "outputs": [
    {
     "name": "stdout",
     "output_type": "stream",
     "text": [
      "-RECORD 0--------------------\n",
      " RowNumber       | 1         \n",
      " CustomerId      | 15634602  \n",
      " Surname         | Hargrave  \n",
      " CreditScore     | 619       \n",
      " Geography       | France    \n",
      " Gender          | Female    \n",
      " Age             | 42        \n",
      " Tenure          | 2         \n",
      " Balance         | 0.0       \n",
      " NumOfProducts   | 1         \n",
      " HasCrCard       | 1         \n",
      " IsActiveMember  | 1         \n",
      " EstimatedSalary | 101348.88 \n",
      " Exited          | 1         \n",
      "only showing top 1 row\n",
      "\n"
     ]
    }
   ],
   "source": [
    "spark_df.show(1,truncate=True,vertical=True)"
   ]
  },
  {
   "cell_type": "code",
   "execution_count": 10,
   "id": "boolean-cookbook",
   "metadata": {},
   "outputs": [
    {
     "data": {
      "text/plain": [
       "[('RowNumber', 'int'),\n",
       " ('CustomerId', 'int'),\n",
       " ('Surname', 'string'),\n",
       " ('CreditScore', 'int'),\n",
       " ('Geography', 'string'),\n",
       " ('Gender', 'string'),\n",
       " ('Age', 'int'),\n",
       " ('Tenure', 'int'),\n",
       " ('Balance', 'double'),\n",
       " ('NumOfProducts', 'int'),\n",
       " ('HasCrCard', 'int'),\n",
       " ('IsActiveMember', 'int'),\n",
       " ('EstimatedSalary', 'double'),\n",
       " ('Exited', 'int')]"
      ]
     },
     "execution_count": 10,
     "metadata": {},
     "output_type": "execute_result"
    }
   ],
   "source": [
    "spark_df.dtypes"
   ]
  },
  {
   "cell_type": "code",
   "execution_count": 11,
   "id": "reliable-garlic",
   "metadata": {},
   "outputs": [
    {
     "name": "stdout",
     "output_type": "stream",
     "text": [
      "root\n",
      " |-- RowNumber: integer (nullable = true)\n",
      " |-- CustomerId: integer (nullable = true)\n",
      " |-- Surname: string (nullable = true)\n",
      " |-- CreditScore: integer (nullable = true)\n",
      " |-- Geography: string (nullable = true)\n",
      " |-- Gender: string (nullable = true)\n",
      " |-- Age: integer (nullable = true)\n",
      " |-- Tenure: integer (nullable = true)\n",
      " |-- Balance: double (nullable = true)\n",
      " |-- NumOfProducts: integer (nullable = true)\n",
      " |-- HasCrCard: integer (nullable = true)\n",
      " |-- IsActiveMember: integer (nullable = true)\n",
      " |-- EstimatedSalary: double (nullable = true)\n",
      " |-- Exited: integer (nullable = true)\n",
      "\n"
     ]
    }
   ],
   "source": [
    "spark_df.printSchema()"
   ]
  },
  {
   "cell_type": "code",
   "execution_count": 12,
   "id": "excess-hazard",
   "metadata": {},
   "outputs": [
    {
     "name": "stdout",
     "output_type": "stream",
     "text": [
      "Spark_Df Shape : (10000, 14)\n"
     ]
    }
   ],
   "source": [
    "print(f\"Spark_Df Shape : {(spark_df.count(),len(spark_df.columns))}\")"
   ]
  },
  {
   "cell_type": "code",
   "execution_count": 13,
   "id": "structural-myrtle",
   "metadata": {},
   "outputs": [
    {
     "name": "stdout",
     "output_type": "stream",
     "text": [
      "-RECORD 0--------------------\n",
      " ROWNUMBER       | 1         \n",
      " CUSTOMERID      | 15634602  \n",
      " SURNAME         | Hargrave  \n",
      " CREDITSCORE     | 619       \n",
      " GEOGRAPHY       | France    \n",
      " GENDER          | Female    \n",
      " AGE             | 42        \n",
      " TENURE          | 2         \n",
      " BALANCE         | 0.0       \n",
      " NUMOFPRODUCTS   | 1         \n",
      " HASCRCARD       | 1         \n",
      " ISACTIVEMEMBER  | 1         \n",
      " ESTIMATEDSALARY | 101348.88 \n",
      " EXITED          | 1         \n",
      "only showing top 1 row\n",
      "\n"
     ]
    }
   ],
   "source": [
    "# Değişken İsimlerinin Değiştirilmesi\n",
    "\n",
    "spark_df = spark_df.toDF(*[col.upper() for col in spark_df.columns])\n",
    "spark_df.show(1,truncate=False, vertical=True)"
   ]
  },
  {
   "cell_type": "code",
   "execution_count": 14,
   "id": "secondary-alliance",
   "metadata": {},
   "outputs": [
    {
     "data": {
      "text/html": [
       "<div>\n",
       "<style scoped>\n",
       "    .dataframe tbody tr th:only-of-type {\n",
       "        vertical-align: middle;\n",
       "    }\n",
       "\n",
       "    .dataframe tbody tr th {\n",
       "        vertical-align: top;\n",
       "    }\n",
       "\n",
       "    .dataframe thead th {\n",
       "        text-align: right;\n",
       "    }\n",
       "</style>\n",
       "<table border=\"1\" class=\"dataframe\">\n",
       "  <thead>\n",
       "    <tr style=\"text-align: right;\">\n",
       "      <th>summary</th>\n",
       "      <th>count</th>\n",
       "      <th>mean</th>\n",
       "      <th>stddev</th>\n",
       "      <th>min</th>\n",
       "      <th>max</th>\n",
       "    </tr>\n",
       "  </thead>\n",
       "  <tbody>\n",
       "    <tr>\n",
       "      <th>ROWNUMBER</th>\n",
       "      <td>10000</td>\n",
       "      <td>5000.5</td>\n",
       "      <td>2886.8956799071675</td>\n",
       "      <td>1</td>\n",
       "      <td>10000</td>\n",
       "    </tr>\n",
       "    <tr>\n",
       "      <th>CUSTOMERID</th>\n",
       "      <td>10000</td>\n",
       "      <td>1.56909405694E7</td>\n",
       "      <td>71936.18612274907</td>\n",
       "      <td>15565701</td>\n",
       "      <td>15815690</td>\n",
       "    </tr>\n",
       "    <tr>\n",
       "      <th>CREDITSCORE</th>\n",
       "      <td>10000</td>\n",
       "      <td>650.5288</td>\n",
       "      <td>96.65329873613035</td>\n",
       "      <td>350</td>\n",
       "      <td>850</td>\n",
       "    </tr>\n",
       "    <tr>\n",
       "      <th>AGE</th>\n",
       "      <td>10000</td>\n",
       "      <td>38.9218</td>\n",
       "      <td>10.487806451704587</td>\n",
       "      <td>18</td>\n",
       "      <td>92</td>\n",
       "    </tr>\n",
       "    <tr>\n",
       "      <th>TENURE</th>\n",
       "      <td>10000</td>\n",
       "      <td>5.0128</td>\n",
       "      <td>2.8921743770496837</td>\n",
       "      <td>0</td>\n",
       "      <td>10</td>\n",
       "    </tr>\n",
       "    <tr>\n",
       "      <th>BALANCE</th>\n",
       "      <td>10000</td>\n",
       "      <td>76485.88928799961</td>\n",
       "      <td>62397.40520238599</td>\n",
       "      <td>0.0</td>\n",
       "      <td>250898.09</td>\n",
       "    </tr>\n",
       "    <tr>\n",
       "      <th>NUMOFPRODUCTS</th>\n",
       "      <td>10000</td>\n",
       "      <td>1.5302</td>\n",
       "      <td>0.5816543579989917</td>\n",
       "      <td>1</td>\n",
       "      <td>4</td>\n",
       "    </tr>\n",
       "    <tr>\n",
       "      <th>HASCRCARD</th>\n",
       "      <td>10000</td>\n",
       "      <td>0.7055</td>\n",
       "      <td>0.45584046447513327</td>\n",
       "      <td>0</td>\n",
       "      <td>1</td>\n",
       "    </tr>\n",
       "    <tr>\n",
       "      <th>ISACTIVEMEMBER</th>\n",
       "      <td>10000</td>\n",
       "      <td>0.5151</td>\n",
       "      <td>0.49979692845891815</td>\n",
       "      <td>0</td>\n",
       "      <td>1</td>\n",
       "    </tr>\n",
       "    <tr>\n",
       "      <th>ESTIMATEDSALARY</th>\n",
       "      <td>10000</td>\n",
       "      <td>100090.2398809998</td>\n",
       "      <td>57510.49281769821</td>\n",
       "      <td>11.58</td>\n",
       "      <td>199992.48</td>\n",
       "    </tr>\n",
       "    <tr>\n",
       "      <th>EXITED</th>\n",
       "      <td>10000</td>\n",
       "      <td>0.2037</td>\n",
       "      <td>0.40276858399486065</td>\n",
       "      <td>0</td>\n",
       "      <td>1</td>\n",
       "    </tr>\n",
       "  </tbody>\n",
       "</table>\n",
       "</div>"
      ],
      "text/plain": [
       "summary          count               mean               stddev       min        max\n",
       "ROWNUMBER        10000             5000.5   2886.8956799071675         1      10000\n",
       "CUSTOMERID       10000    1.56909405694E7    71936.18612274907  15565701   15815690\n",
       "CREDITSCORE      10000           650.5288    96.65329873613035       350        850\n",
       "AGE              10000            38.9218   10.487806451704587        18         92\n",
       "TENURE           10000             5.0128   2.8921743770496837         0         10\n",
       "BALANCE          10000  76485.88928799961    62397.40520238599       0.0  250898.09\n",
       "NUMOFPRODUCTS    10000             1.5302   0.5816543579989917         1          4\n",
       "HASCRCARD        10000             0.7055  0.45584046447513327         0          1\n",
       "ISACTIVEMEMBER   10000             0.5151  0.49979692845891815         0          1\n",
       "ESTIMATEDSALARY  10000  100090.2398809998    57510.49281769821     11.58  199992.48\n",
       "EXITED           10000             0.2037  0.40276858399486065         0          1"
      ]
     },
     "execution_count": 14,
     "metadata": {},
     "output_type": "execute_result"
    }
   ],
   "source": [
    "# Özet İstatistikleri \n",
    "num_cols = [col[0] for col in spark_df.dtypes if col[1] != \"string\"]\n",
    "cat_cols = [col[0] for col in spark_df.dtypes if col[1] == \"string\"]\n",
    "\n",
    "spark_df.describe(num_cols).toPandas().set_index(\"summary\").transpose()"
   ]
  },
  {
   "cell_type": "code",
   "execution_count": 15,
   "id": "arabic-privacy",
   "metadata": {},
   "outputs": [],
   "source": [
    "# Exited'e göre sayısal değişkenlerin seçimi ve özeti\n",
    "#for num in num_cols:\n",
    "\n",
    "#    if num not in \"Exited\".upper():\n",
    "\n",
    "#        spark_df.groupby(\"Exited\").agg({num : \"mean\"}).show()"
   ]
  },
  {
   "cell_type": "code",
   "execution_count": 16,
   "id": "regulation-defensive",
   "metadata": {},
   "outputs": [],
   "source": [
    "# Tüm kategorik değişkenlerin eşsiz değerleri\n",
    "\n",
    "#for cat in cat_cols:\n",
    "    \n",
    "#    spark_df.select(cat).distinct().show()"
   ]
  },
  {
   "cell_type": "code",
   "execution_count": 17,
   "id": "rough-gross",
   "metadata": {},
   "outputs": [],
   "source": [
    "##################################################\n",
    "# Data Preprocessing & Feature Engineering\n",
    "##################################################\n",
    "\n",
    "############################\n",
    "# Missing Values\n",
    "############################"
   ]
  },
  {
   "cell_type": "code",
   "execution_count": 18,
   "id": "chronic-allah",
   "metadata": {},
   "outputs": [
    {
     "data": {
      "text/plain": [
       "ROWNUMBER          0\n",
       "CUSTOMERID         0\n",
       "SURNAME            0\n",
       "CREDITSCORE        0\n",
       "GEOGRAPHY          0\n",
       "GENDER             0\n",
       "AGE                0\n",
       "TENURE             0\n",
       "BALANCE            0\n",
       "NUMOFPRODUCTS      0\n",
       "HASCRCARD          0\n",
       "ISACTIVEMEMBER     0\n",
       "ESTIMATEDSALARY    0\n",
       "EXITED             0\n",
       "dtype: int64"
      ]
     },
     "execution_count": 18,
     "metadata": {},
     "output_type": "execute_result"
    }
   ],
   "source": [
    "# Farklı methodla baktım herhangi bir boş değer yok \n",
    "spark_df.toPandas().isnull().sum()"
   ]
  },
  {
   "cell_type": "code",
   "execution_count": 19,
   "id": "corresponding-significance",
   "metadata": {},
   "outputs": [],
   "source": [
    "############################\n",
    "# Feature Interaction\n",
    "############################"
   ]
  },
  {
   "cell_type": "code",
   "execution_count": 20,
   "id": "czech-shooting",
   "metadata": {},
   "outputs": [
    {
     "name": "stdout",
     "output_type": "stream",
     "text": [
      "-RECORD 0--------------------\n",
      " ROWNUMBER       | 1         \n",
      " CUSTOMERID      | 15634602  \n",
      " SURNAME         | Hargrave  \n",
      " CREDITSCORE     | 619       \n",
      " GEOGRAPHY       | France    \n",
      " GENDER          | Female    \n",
      " AGE             | 42        \n",
      " TENURE          | 2         \n",
      " BALANCE         | 0.0       \n",
      " NUMOFPRODUCTS   | 1         \n",
      " HASCRCARD       | 1         \n",
      " ISACTIVEMEMBER  | 1         \n",
      " ESTIMATEDSALARY | 101348.88 \n",
      " EXITED          | 1         \n",
      "-RECORD 1--------------------\n",
      " ROWNUMBER       | 2         \n",
      " CUSTOMERID      | 15647311  \n",
      " SURNAME         | Hill      \n",
      " CREDITSCORE     | 608       \n",
      " GEOGRAPHY       | Spain     \n",
      " GENDER          | Female    \n",
      " AGE             | 41        \n",
      " TENURE          | 1         \n",
      " BALANCE         | 83807.86  \n",
      " NUMOFPRODUCTS   | 1         \n",
      " HASCRCARD       | 0         \n",
      " ISACTIVEMEMBER  | 1         \n",
      " ESTIMATEDSALARY | 112542.58 \n",
      " EXITED          | 0         \n",
      "only showing top 2 rows\n",
      "\n"
     ]
    }
   ],
   "source": [
    "spark_df.show(2,vertical=True)"
   ]
  },
  {
   "cell_type": "code",
   "execution_count": 21,
   "id": "crucial-herald",
   "metadata": {},
   "outputs": [
    {
     "data": {
      "text/plain": [
       "['CREDITSCORE',\n",
       " 'GEOGRAPHY',\n",
       " 'GENDER',\n",
       " 'AGE',\n",
       " 'TENURE',\n",
       " 'BALANCE',\n",
       " 'NUMOFPRODUCTS',\n",
       " 'HASCRCARD',\n",
       " 'ISACTIVEMEMBER',\n",
       " 'ESTIMATEDSALARY',\n",
       " 'EXITED']"
      ]
     },
     "execution_count": 21,
     "metadata": {},
     "output_type": "execute_result"
    }
   ],
   "source": [
    "# Burda CustomerID,RowNumber ile SurName çıkarabiliriz bizim için faydalı bilgi değiller !!!\n",
    "\n",
    "spark_df = spark_df.drop(\"SURNAME\",\"ROWNUMBER\",\"CUSTOMERID\")\n",
    "\n",
    "# Güncelledik num_cols !!!\n",
    "num_cols = [col for col in num_cols if col not in [\"SURNAME\",\"ROWNUMBER\",\"CUSTOMERID\",\"EXITED\"]]\n",
    "\n",
    "\n",
    "spark_df.columns"
   ]
  },
  {
   "cell_type": "code",
   "execution_count": 22,
   "id": "micro-death",
   "metadata": {},
   "outputs": [
    {
     "name": "stdout",
     "output_type": "stream",
     "text": [
      "+-----------+---------+------+---+------+--------+-------------+---------+--------------+---------------+------+\n",
      "|CREDITSCORE|GEOGRAPHY|GENDER|AGE|TENURE| BALANCE|NUMOFPRODUCTS|HASCRCARD|ISACTIVEMEMBER|ESTIMATEDSALARY|EXITED|\n",
      "+-----------+---------+------+---+------+--------+-------------+---------+--------------+---------------+------+\n",
      "|        619|   France|Female| 42|     2|     0.0|            1|        1|             1|      101348.88|     1|\n",
      "|        608|    Spain|Female| 41|     1|83807.86|            1|        0|             1|      112542.58|     0|\n",
      "|        502|   France|Female| 42|     8|159660.8|            3|        1|             0|      113931.57|     1|\n",
      "|        699|   France|Female| 39|     1|     0.0|            2|        0|             0|       93826.63|     0|\n",
      "+-----------+---------+------+---+------+--------+-------------+---------+--------------+---------------+------+\n",
      "only showing top 4 rows\n",
      "\n"
     ]
    }
   ],
   "source": [
    "spark_df.show(4)"
   ]
  },
  {
   "cell_type": "code",
   "execution_count": 23,
   "id": "dated-compilation",
   "metadata": {},
   "outputs": [
    {
     "data": {
      "text/html": [
       "<div>\n",
       "<style scoped>\n",
       "    .dataframe tbody tr th:only-of-type {\n",
       "        vertical-align: middle;\n",
       "    }\n",
       "\n",
       "    .dataframe tbody tr th {\n",
       "        vertical-align: top;\n",
       "    }\n",
       "\n",
       "    .dataframe thead th {\n",
       "        text-align: right;\n",
       "    }\n",
       "</style>\n",
       "<table border=\"1\" class=\"dataframe\">\n",
       "  <thead>\n",
       "    <tr style=\"text-align: right;\">\n",
       "      <th></th>\n",
       "      <th>count</th>\n",
       "      <th>mean</th>\n",
       "      <th>std</th>\n",
       "      <th>min</th>\n",
       "      <th>10%</th>\n",
       "      <th>30%</th>\n",
       "      <th>50%</th>\n",
       "      <th>70%</th>\n",
       "      <th>90%</th>\n",
       "      <th>max</th>\n",
       "    </tr>\n",
       "  </thead>\n",
       "  <tbody>\n",
       "    <tr>\n",
       "      <th>CREDITSCORE</th>\n",
       "      <td>10000.0000</td>\n",
       "      <td>650.5288</td>\n",
       "      <td>96.6533</td>\n",
       "      <td>350.0000</td>\n",
       "      <td>521.0000</td>\n",
       "      <td>598.7000</td>\n",
       "      <td>652.0000</td>\n",
       "      <td>704.0000</td>\n",
       "      <td>778.0000</td>\n",
       "      <td>850.0000</td>\n",
       "    </tr>\n",
       "    <tr>\n",
       "      <th>AGE</th>\n",
       "      <td>10000.0000</td>\n",
       "      <td>38.9218</td>\n",
       "      <td>10.4878</td>\n",
       "      <td>18.0000</td>\n",
       "      <td>27.0000</td>\n",
       "      <td>33.0000</td>\n",
       "      <td>37.0000</td>\n",
       "      <td>42.0000</td>\n",
       "      <td>53.0000</td>\n",
       "      <td>92.0000</td>\n",
       "    </tr>\n",
       "    <tr>\n",
       "      <th>TENURE</th>\n",
       "      <td>10000.0000</td>\n",
       "      <td>5.0128</td>\n",
       "      <td>2.8922</td>\n",
       "      <td>0.0000</td>\n",
       "      <td>1.0000</td>\n",
       "      <td>3.0000</td>\n",
       "      <td>5.0000</td>\n",
       "      <td>7.0000</td>\n",
       "      <td>9.0000</td>\n",
       "      <td>10.0000</td>\n",
       "    </tr>\n",
       "    <tr>\n",
       "      <th>BALANCE</th>\n",
       "      <td>10000.0000</td>\n",
       "      <td>76485.8893</td>\n",
       "      <td>62397.4052</td>\n",
       "      <td>0.0000</td>\n",
       "      <td>0.0000</td>\n",
       "      <td>0.0000</td>\n",
       "      <td>97198.5400</td>\n",
       "      <td>122029.8700</td>\n",
       "      <td>149244.7920</td>\n",
       "      <td>250898.0900</td>\n",
       "    </tr>\n",
       "    <tr>\n",
       "      <th>NUMOFPRODUCTS</th>\n",
       "      <td>10000.0000</td>\n",
       "      <td>1.5302</td>\n",
       "      <td>0.5817</td>\n",
       "      <td>1.0000</td>\n",
       "      <td>1.0000</td>\n",
       "      <td>1.0000</td>\n",
       "      <td>1.0000</td>\n",
       "      <td>2.0000</td>\n",
       "      <td>2.0000</td>\n",
       "      <td>4.0000</td>\n",
       "    </tr>\n",
       "    <tr>\n",
       "      <th>HASCRCARD</th>\n",
       "      <td>10000.0000</td>\n",
       "      <td>0.7055</td>\n",
       "      <td>0.4558</td>\n",
       "      <td>0.0000</td>\n",
       "      <td>0.0000</td>\n",
       "      <td>1.0000</td>\n",
       "      <td>1.0000</td>\n",
       "      <td>1.0000</td>\n",
       "      <td>1.0000</td>\n",
       "      <td>1.0000</td>\n",
       "    </tr>\n",
       "    <tr>\n",
       "      <th>ISACTIVEMEMBER</th>\n",
       "      <td>10000.0000</td>\n",
       "      <td>0.5151</td>\n",
       "      <td>0.4998</td>\n",
       "      <td>0.0000</td>\n",
       "      <td>0.0000</td>\n",
       "      <td>0.0000</td>\n",
       "      <td>1.0000</td>\n",
       "      <td>1.0000</td>\n",
       "      <td>1.0000</td>\n",
       "      <td>1.0000</td>\n",
       "    </tr>\n",
       "    <tr>\n",
       "      <th>ESTIMATEDSALARY</th>\n",
       "      <td>10000.0000</td>\n",
       "      <td>100090.2399</td>\n",
       "      <td>57510.4928</td>\n",
       "      <td>11.5800</td>\n",
       "      <td>20273.5800</td>\n",
       "      <td>60736.0790</td>\n",
       "      <td>100193.9150</td>\n",
       "      <td>139432.2360</td>\n",
       "      <td>179674.7040</td>\n",
       "      <td>199992.4800</td>\n",
       "    </tr>\n",
       "    <tr>\n",
       "      <th>EXITED</th>\n",
       "      <td>10000.0000</td>\n",
       "      <td>0.2037</td>\n",
       "      <td>0.4028</td>\n",
       "      <td>0.0000</td>\n",
       "      <td>0.0000</td>\n",
       "      <td>0.0000</td>\n",
       "      <td>0.0000</td>\n",
       "      <td>0.0000</td>\n",
       "      <td>1.0000</td>\n",
       "      <td>1.0000</td>\n",
       "    </tr>\n",
       "  </tbody>\n",
       "</table>\n",
       "</div>"
      ],
      "text/plain": [
       "                     count        mean        std      min        10%        30%         50%         70%         90%         max\n",
       "CREDITSCORE     10000.0000    650.5288    96.6533 350.0000   521.0000   598.7000    652.0000    704.0000    778.0000    850.0000\n",
       "AGE             10000.0000     38.9218    10.4878  18.0000    27.0000    33.0000     37.0000     42.0000     53.0000     92.0000\n",
       "TENURE          10000.0000      5.0128     2.8922   0.0000     1.0000     3.0000      5.0000      7.0000      9.0000     10.0000\n",
       "BALANCE         10000.0000  76485.8893 62397.4052   0.0000     0.0000     0.0000  97198.5400 122029.8700 149244.7920 250898.0900\n",
       "NUMOFPRODUCTS   10000.0000      1.5302     0.5817   1.0000     1.0000     1.0000      1.0000      2.0000      2.0000      4.0000\n",
       "HASCRCARD       10000.0000      0.7055     0.4558   0.0000     0.0000     1.0000      1.0000      1.0000      1.0000      1.0000\n",
       "ISACTIVEMEMBER  10000.0000      0.5151     0.4998   0.0000     0.0000     0.0000      1.0000      1.0000      1.0000      1.0000\n",
       "ESTIMATEDSALARY 10000.0000 100090.2399 57510.4928  11.5800 20273.5800 60736.0790 100193.9150 139432.2360 179674.7040 199992.4800\n",
       "EXITED          10000.0000      0.2037     0.4028   0.0000     0.0000     0.0000      0.0000      0.0000      1.0000      1.0000"
      ]
     },
     "execution_count": 23,
     "metadata": {},
     "output_type": "execute_result"
    }
   ],
   "source": [
    "spark_df.toPandas().describe([0.1,0.3,0.5,0.7,0.9]).T"
   ]
  },
  {
   "cell_type": "code",
   "execution_count": 24,
   "id": "reported-accounting",
   "metadata": {},
   "outputs": [],
   "source": [
    "spark_df = spark_df.withColumn(\"AGE_ESTIMATED_SALARY\" , spark_df.AGE / spark_df.ESTIMATEDSALARY)\n",
    "spark_df = spark_df.withColumn(\"CREDITSCORE_TENURE\" , spark_df.CREDITSCORE * spark_df.TENURE)\n",
    "spark_df = spark_df.withColumn(\"ESTIMATEDSALARY_CREDITSCORE\" , spark_df.ESTIMATEDSALARY / spark_df.CREDITSCORE)"
   ]
  },
  {
   "cell_type": "code",
   "execution_count": 25,
   "id": "incident-coordination",
   "metadata": {},
   "outputs": [
    {
     "name": "stdout",
     "output_type": "stream",
     "text": [
      "-RECORD 0--------------------------------------------\n",
      " CREDITSCORE                 | 619                   \n",
      " GEOGRAPHY                   | France                \n",
      " GENDER                      | Female                \n",
      " AGE                         | 42                    \n",
      " TENURE                      | 2                     \n",
      " BALANCE                     | 0.0                   \n",
      " NUMOFPRODUCTS               | 1                     \n",
      " HASCRCARD                   | 1                     \n",
      " ISACTIVEMEMBER              | 1                     \n",
      " ESTIMATEDSALARY             | 101348.88             \n",
      " EXITED                      | 1                     \n",
      " AGE_ESTIMATED_SALARY        | 4.144101049759997E-4  \n",
      " CREDITSCORE_TENURE          | 1238                  \n",
      " ESTIMATEDSALARY_CREDITSCORE | 163.73001615508886    \n",
      "-RECORD 1--------------------------------------------\n",
      " CREDITSCORE                 | 608                   \n",
      " GEOGRAPHY                   | Spain                 \n",
      " GENDER                      | Female                \n",
      " AGE                         | 41                    \n",
      " TENURE                      | 1                     \n",
      " BALANCE                     | 83807.86              \n",
      " NUMOFPRODUCTS               | 1                     \n",
      " HASCRCARD                   | 0                     \n",
      " ISACTIVEMEMBER              | 1                     \n",
      " ESTIMATEDSALARY             | 112542.58             \n",
      " EXITED                      | 0                     \n",
      " AGE_ESTIMATED_SALARY        | 3.64306558459918E-4   \n",
      " CREDITSCORE_TENURE          | 608                   \n",
      " ESTIMATEDSALARY_CREDITSCORE | 185.10292763157895    \n",
      "-RECORD 2--------------------------------------------\n",
      " CREDITSCORE                 | 502                   \n",
      " GEOGRAPHY                   | France                \n",
      " GENDER                      | Female                \n",
      " AGE                         | 42                    \n",
      " TENURE                      | 8                     \n",
      " BALANCE                     | 159660.8              \n",
      " NUMOFPRODUCTS               | 3                     \n",
      " HASCRCARD                   | 1                     \n",
      " ISACTIVEMEMBER              | 0                     \n",
      " ESTIMATEDSALARY             | 113931.57             \n",
      " EXITED                      | 1                     \n",
      " AGE_ESTIMATED_SALARY        | 3.68642335043746E-4   \n",
      " CREDITSCORE_TENURE          | 4016                  \n",
      " ESTIMATEDSALARY_CREDITSCORE | 226.9553187250996     \n",
      "-RECORD 3--------------------------------------------\n",
      " CREDITSCORE                 | 699                   \n",
      " GEOGRAPHY                   | France                \n",
      " GENDER                      | Female                \n",
      " AGE                         | 39                    \n",
      " TENURE                      | 1                     \n",
      " BALANCE                     | 0.0                   \n",
      " NUMOFPRODUCTS               | 2                     \n",
      " HASCRCARD                   | 0                     \n",
      " ISACTIVEMEMBER              | 0                     \n",
      " ESTIMATEDSALARY             | 93826.63              \n",
      " EXITED                      | 0                     \n",
      " AGE_ESTIMATED_SALARY        | 4.1566024485798967E-4 \n",
      " CREDITSCORE_TENURE          | 699                   \n",
      " ESTIMATEDSALARY_CREDITSCORE | 134.229799713877      \n",
      "-RECORD 4--------------------------------------------\n",
      " CREDITSCORE                 | 850                   \n",
      " GEOGRAPHY                   | Spain                 \n",
      " GENDER                      | Female                \n",
      " AGE                         | 43                    \n",
      " TENURE                      | 2                     \n",
      " BALANCE                     | 125510.82             \n",
      " NUMOFPRODUCTS               | 1                     \n",
      " HASCRCARD                   | 1                     \n",
      " ISACTIVEMEMBER              | 1                     \n",
      " ESTIMATEDSALARY             | 79084.1               \n",
      " EXITED                      | 0                     \n",
      " AGE_ESTIMATED_SALARY        | 5.437249712647675E-4  \n",
      " CREDITSCORE_TENURE          | 1700                  \n",
      " ESTIMATEDSALARY_CREDITSCORE | 93.04011764705884     \n",
      "-RECORD 5--------------------------------------------\n",
      " CREDITSCORE                 | 645                   \n",
      " GEOGRAPHY                   | Spain                 \n",
      " GENDER                      | Male                  \n",
      " AGE                         | 44                    \n",
      " TENURE                      | 8                     \n",
      " BALANCE                     | 113755.78             \n",
      " NUMOFPRODUCTS               | 2                     \n",
      " HASCRCARD                   | 1                     \n",
      " ISACTIVEMEMBER              | 0                     \n",
      " ESTIMATEDSALARY             | 149756.71             \n",
      " EXITED                      | 1                     \n",
      " AGE_ESTIMATED_SALARY        | 2.9380987336059935E-4 \n",
      " CREDITSCORE_TENURE          | 5160                  \n",
      " ESTIMATEDSALARY_CREDITSCORE | 232.1809457364341     \n",
      "-RECORD 6--------------------------------------------\n",
      " CREDITSCORE                 | 822                   \n",
      " GEOGRAPHY                   | France                \n",
      " GENDER                      | Male                  \n",
      " AGE                         | 50                    \n",
      " TENURE                      | 7                     \n",
      " BALANCE                     | 0.0                   \n",
      " NUMOFPRODUCTS               | 2                     \n",
      " HASCRCARD                   | 1                     \n",
      " ISACTIVEMEMBER              | 1                     \n",
      " ESTIMATEDSALARY             | 10062.8               \n",
      " EXITED                      | 0                     \n",
      " AGE_ESTIMATED_SALARY        | 0.004968795961362643  \n",
      " CREDITSCORE_TENURE          | 5754                  \n",
      " ESTIMATEDSALARY_CREDITSCORE | 12.24184914841849     \n",
      "-RECORD 7--------------------------------------------\n",
      " CREDITSCORE                 | 376                   \n",
      " GEOGRAPHY                   | Germany               \n",
      " GENDER                      | Female                \n",
      " AGE                         | 29                    \n",
      " TENURE                      | 4                     \n",
      " BALANCE                     | 115046.74             \n",
      " NUMOFPRODUCTS               | 4                     \n",
      " HASCRCARD                   | 1                     \n",
      " ISACTIVEMEMBER              | 0                     \n",
      " ESTIMATEDSALARY             | 119346.88             \n",
      " EXITED                      | 1                     \n",
      " AGE_ESTIMATED_SALARY        | 2.4298917575390323E-4 \n",
      " CREDITSCORE_TENURE          | 1504                  \n",
      " ESTIMATEDSALARY_CREDITSCORE | 317.41191489361705    \n",
      "-RECORD 8--------------------------------------------\n",
      " CREDITSCORE                 | 501                   \n",
      " GEOGRAPHY                   | France                \n",
      " GENDER                      | Male                  \n",
      " AGE                         | 44                    \n",
      " TENURE                      | 4                     \n",
      " BALANCE                     | 142051.07             \n",
      " NUMOFPRODUCTS               | 2                     \n",
      " HASCRCARD                   | 0                     \n",
      " ISACTIVEMEMBER              | 1                     \n",
      " ESTIMATEDSALARY             | 74940.5               \n",
      " EXITED                      | 0                     \n",
      " AGE_ESTIMATED_SALARY        | 5.871324584170108E-4  \n",
      " CREDITSCORE_TENURE          | 2004                  \n",
      " ESTIMATEDSALARY_CREDITSCORE | 149.58183632734531    \n",
      "-RECORD 9--------------------------------------------\n",
      " CREDITSCORE                 | 684                   \n",
      " GEOGRAPHY                   | France                \n",
      " GENDER                      | Male                  \n",
      " AGE                         | 27                    \n",
      " TENURE                      | 2                     \n",
      " BALANCE                     | 134603.88             \n",
      " NUMOFPRODUCTS               | 1                     \n",
      " HASCRCARD                   | 1                     \n",
      " ISACTIVEMEMBER              | 1                     \n",
      " ESTIMATEDSALARY             | 71725.73              \n",
      " EXITED                      | 0                     \n",
      " AGE_ESTIMATED_SALARY        | 3.764339519444417E-4  \n",
      " CREDITSCORE_TENURE          | 1368                  \n",
      " ESTIMATEDSALARY_CREDITSCORE | 104.86217836257309    \n",
      "only showing top 10 rows\n",
      "\n"
     ]
    }
   ],
   "source": [
    "spark_df.show(10,False,True)"
   ]
  },
  {
   "cell_type": "code",
   "execution_count": 26,
   "id": "undefined-print",
   "metadata": {},
   "outputs": [],
   "source": [
    "from pyspark.ml.feature import Bucketizer"
   ]
  },
  {
   "cell_type": "code",
   "execution_count": 27,
   "id": "swedish-cisco",
   "metadata": {},
   "outputs": [
    {
     "name": "stdout",
     "output_type": "stream",
     "text": [
      "+-------+\n",
      "|AGE_CAT|\n",
      "+-------+\n",
      "|    1.0|\n",
      "|    4.0|\n",
      "|    3.0|\n",
      "|    2.0|\n",
      "+-------+\n",
      "\n"
     ]
    }
   ],
   "source": [
    "#[(17.926, 36.5] < (36.5, 55.0] < (55.0, 73.5] < (73.5, 92.0]]\n",
    "\n",
    "bucketizer_age = Bucketizer(splits = [16,37,55,74,93] , \n",
    "                            inputCol = \"AGE\",\n",
    "                            outputCol = \"AGE_CAT\")\n",
    "\n",
    "spark_df = bucketizer_age.setHandleInvalid(\"keep\").transform(spark_df)\n",
    "spark_df = spark_df.withColumn(\"AGE_CAT\" , spark_df.AGE_CAT + 1)\n",
    "\n",
    "spark_df.select(\"AGE_CAT\").distinct().show()"
   ]
  },
  {
   "cell_type": "code",
   "execution_count": 28,
   "id": "joined-season",
   "metadata": {},
   "outputs": [
    {
     "name": "stdout",
     "output_type": "stream",
     "text": [
      "+-------------------+\n",
      "|ESTIMATEDSALARY_CAT|\n",
      "+-------------------+\n",
      "|                1.0|\n",
      "|                4.0|\n",
      "|                3.0|\n",
      "|                2.0|\n",
      "+-------------------+\n",
      "\n"
     ]
    }
   ],
   "source": [
    "# [(-188.401, 50006.805] < (50006.805, 100002.03] < (100002.03, 149997.255] < (149997.255, 199992.48]]\n",
    "\n",
    "bucketizer_estimated_salary = Bucketizer(splits = [0, 50000, 100000, 150000, 200000],\n",
    "                                         inputCol = \"ESTIMATEDSALARY\",\n",
    "                                         outputCol = \"ESTIMATEDSALARY_CAT\")\n",
    "\n",
    "spark_df = bucketizer_estimated_salary.setHandleInvalid(\"keep\").transform(spark_df)\n",
    "spark_df = spark_df.withColumn(\"ESTIMATEDSALARY_CAT\" , spark_df.ESTIMATEDSALARY_CAT + 1)\n",
    "\n",
    "spark_df.select(spark_df.ESTIMATEDSALARY_CAT).distinct().show()"
   ]
  },
  {
   "cell_type": "code",
   "execution_count": 29,
   "id": "veterinary-freeware",
   "metadata": {},
   "outputs": [
    {
     "name": "stdout",
     "output_type": "stream",
     "text": [
      "+---------------+\n",
      "|CREDITSCORE_CAT|\n",
      "+---------------+\n",
      "|            1.0|\n",
      "|            4.0|\n",
      "|            3.0|\n",
      "|            2.0|\n",
      "+---------------+\n",
      "\n"
     ]
    }
   ],
   "source": [
    "#[(349.5, 475.0] < (475.0, 600.0] < (600.0, 725.0] < (725.0, 850.0]]\n",
    "\n",
    "bucketizer_credit = Bucketizer(splits = [340 , 475, 600, 725, 851],\n",
    "                               inputCol = \"CREDITSCORE\",\n",
    "                               outputCol = \"CREDITSCORE_CAT\")\n",
    "\n",
    "spark_df = bucketizer_credit.setHandleInvalid(\"keep\").transform(spark_df)\n",
    "spark_df = spark_df.withColumn(\"CREDITSCORE_CAT\", spark_df.CREDITSCORE_CAT + 1)\n",
    "\n",
    "spark_df.select(\"CREDITSCORE_CAT\").distinct().show()"
   ]
  },
  {
   "cell_type": "code",
   "execution_count": 30,
   "id": "productive-batch",
   "metadata": {},
   "outputs": [
    {
     "name": "stdout",
     "output_type": "stream",
     "text": [
      "+----------+\n",
      "|TENURE_CAT|\n",
      "+----------+\n",
      "|       1.0|\n",
      "|       4.0|\n",
      "|       3.0|\n",
      "|       2.0|\n",
      "+----------+\n",
      "\n"
     ]
    }
   ],
   "source": [
    "# [(-0.01, 2.5] < (2.5, 5.0] < (5.0, 7.5] < (7.5, 10.0]\n",
    "\n",
    "bucketizer_tenure = Bucketizer(splits = [0 , 3, 5, 8, 11],\n",
    "                              inputCol = \"TENURE\",\n",
    "                              outputCol = \"TENURE_CAT\")\n",
    "\n",
    "spark_df = bucketizer_tenure.setHandleInvalid(\"keep\").transform(spark_df)\n",
    "spark_df = spark_df.withColumn(\"TENURE_CAT\", spark_df.TENURE_CAT + 1)\n",
    "\n",
    "spark_df.select(\"TENURE_CAT\").distinct().show()"
   ]
  },
  {
   "cell_type": "code",
   "execution_count": 31,
   "id": "valuable-seeking",
   "metadata": {},
   "outputs": [
    {
     "data": {
      "text/plain": [
       "CREDITSCORE                    0\n",
       "GEOGRAPHY                      0\n",
       "GENDER                         0\n",
       "AGE                            0\n",
       "TENURE                         0\n",
       "BALANCE                        0\n",
       "NUMOFPRODUCTS                  0\n",
       "HASCRCARD                      0\n",
       "ISACTIVEMEMBER                 0\n",
       "ESTIMATEDSALARY                0\n",
       "EXITED                         0\n",
       "AGE_ESTIMATED_SALARY           0\n",
       "CREDITSCORE_TENURE             0\n",
       "ESTIMATEDSALARY_CREDITSCORE    0\n",
       "AGE_CAT                        0\n",
       "ESTIMATEDSALARY_CAT            0\n",
       "CREDITSCORE_CAT                0\n",
       "TENURE_CAT                     0\n",
       "dtype: int64"
      ]
     },
     "execution_count": 31,
     "metadata": {},
     "output_type": "execute_result"
    }
   ],
   "source": [
    "spark_df.toPandas().isnull().sum()"
   ]
  },
  {
   "cell_type": "code",
   "execution_count": 32,
   "id": "behind-marina",
   "metadata": {},
   "outputs": [],
   "source": [
    "############################\n",
    "# when ile Değişken Türetmek (segment)\n",
    "############################"
   ]
  },
  {
   "cell_type": "code",
   "execution_count": 33,
   "id": "fabulous-inside",
   "metadata": {},
   "outputs": [
    {
     "data": {
      "text/html": [
       "<div>\n",
       "<style scoped>\n",
       "    .dataframe tbody tr th:only-of-type {\n",
       "        vertical-align: middle;\n",
       "    }\n",
       "\n",
       "    .dataframe tbody tr th {\n",
       "        vertical-align: top;\n",
       "    }\n",
       "\n",
       "    .dataframe thead th {\n",
       "        text-align: right;\n",
       "    }\n",
       "</style>\n",
       "<table border=\"1\" class=\"dataframe\">\n",
       "  <thead>\n",
       "    <tr style=\"text-align: right;\">\n",
       "      <th></th>\n",
       "      <th>CREDITSCORE</th>\n",
       "      <th>GEOGRAPHY</th>\n",
       "      <th>GENDER</th>\n",
       "      <th>AGE</th>\n",
       "      <th>TENURE</th>\n",
       "      <th>BALANCE</th>\n",
       "      <th>NUMOFPRODUCTS</th>\n",
       "      <th>HASCRCARD</th>\n",
       "      <th>ISACTIVEMEMBER</th>\n",
       "      <th>ESTIMATEDSALARY</th>\n",
       "      <th>EXITED</th>\n",
       "      <th>AGE_ESTIMATED_SALARY</th>\n",
       "      <th>CREDITSCORE_TENURE</th>\n",
       "      <th>ESTIMATEDSALARY_CREDITSCORE</th>\n",
       "      <th>AGE_CAT</th>\n",
       "      <th>ESTIMATEDSALARY_CAT</th>\n",
       "      <th>CREDITSCORE_CAT</th>\n",
       "      <th>TENURE_CAT</th>\n",
       "    </tr>\n",
       "  </thead>\n",
       "  <tbody>\n",
       "    <tr>\n",
       "      <th>0</th>\n",
       "      <td>619</td>\n",
       "      <td>France</td>\n",
       "      <td>Female</td>\n",
       "      <td>42</td>\n",
       "      <td>2</td>\n",
       "      <td>0.0000</td>\n",
       "      <td>1</td>\n",
       "      <td>1</td>\n",
       "      <td>1</td>\n",
       "      <td>101348.8800</td>\n",
       "      <td>1</td>\n",
       "      <td>0.0004</td>\n",
       "      <td>1238</td>\n",
       "      <td>163.7300</td>\n",
       "      <td>2.0000</td>\n",
       "      <td>3.0000</td>\n",
       "      <td>3.0000</td>\n",
       "      <td>1.0000</td>\n",
       "    </tr>\n",
       "    <tr>\n",
       "      <th>1</th>\n",
       "      <td>608</td>\n",
       "      <td>Spain</td>\n",
       "      <td>Female</td>\n",
       "      <td>41</td>\n",
       "      <td>1</td>\n",
       "      <td>83807.8600</td>\n",
       "      <td>1</td>\n",
       "      <td>0</td>\n",
       "      <td>1</td>\n",
       "      <td>112542.5800</td>\n",
       "      <td>0</td>\n",
       "      <td>0.0004</td>\n",
       "      <td>608</td>\n",
       "      <td>185.1029</td>\n",
       "      <td>2.0000</td>\n",
       "      <td>3.0000</td>\n",
       "      <td>3.0000</td>\n",
       "      <td>1.0000</td>\n",
       "    </tr>\n",
       "    <tr>\n",
       "      <th>2</th>\n",
       "      <td>502</td>\n",
       "      <td>France</td>\n",
       "      <td>Female</td>\n",
       "      <td>42</td>\n",
       "      <td>8</td>\n",
       "      <td>159660.8000</td>\n",
       "      <td>3</td>\n",
       "      <td>1</td>\n",
       "      <td>0</td>\n",
       "      <td>113931.5700</td>\n",
       "      <td>1</td>\n",
       "      <td>0.0004</td>\n",
       "      <td>4016</td>\n",
       "      <td>226.9553</td>\n",
       "      <td>2.0000</td>\n",
       "      <td>3.0000</td>\n",
       "      <td>2.0000</td>\n",
       "      <td>4.0000</td>\n",
       "    </tr>\n",
       "    <tr>\n",
       "      <th>3</th>\n",
       "      <td>699</td>\n",
       "      <td>France</td>\n",
       "      <td>Female</td>\n",
       "      <td>39</td>\n",
       "      <td>1</td>\n",
       "      <td>0.0000</td>\n",
       "      <td>2</td>\n",
       "      <td>0</td>\n",
       "      <td>0</td>\n",
       "      <td>93826.6300</td>\n",
       "      <td>0</td>\n",
       "      <td>0.0004</td>\n",
       "      <td>699</td>\n",
       "      <td>134.2298</td>\n",
       "      <td>2.0000</td>\n",
       "      <td>2.0000</td>\n",
       "      <td>3.0000</td>\n",
       "      <td>1.0000</td>\n",
       "    </tr>\n",
       "    <tr>\n",
       "      <th>4</th>\n",
       "      <td>850</td>\n",
       "      <td>Spain</td>\n",
       "      <td>Female</td>\n",
       "      <td>43</td>\n",
       "      <td>2</td>\n",
       "      <td>125510.8200</td>\n",
       "      <td>1</td>\n",
       "      <td>1</td>\n",
       "      <td>1</td>\n",
       "      <td>79084.1000</td>\n",
       "      <td>0</td>\n",
       "      <td>0.0005</td>\n",
       "      <td>1700</td>\n",
       "      <td>93.0401</td>\n",
       "      <td>2.0000</td>\n",
       "      <td>2.0000</td>\n",
       "      <td>4.0000</td>\n",
       "      <td>1.0000</td>\n",
       "    </tr>\n",
       "    <tr>\n",
       "      <th>5</th>\n",
       "      <td>645</td>\n",
       "      <td>Spain</td>\n",
       "      <td>Male</td>\n",
       "      <td>44</td>\n",
       "      <td>8</td>\n",
       "      <td>113755.7800</td>\n",
       "      <td>2</td>\n",
       "      <td>1</td>\n",
       "      <td>0</td>\n",
       "      <td>149756.7100</td>\n",
       "      <td>1</td>\n",
       "      <td>0.0003</td>\n",
       "      <td>5160</td>\n",
       "      <td>232.1809</td>\n",
       "      <td>2.0000</td>\n",
       "      <td>3.0000</td>\n",
       "      <td>3.0000</td>\n",
       "      <td>4.0000</td>\n",
       "    </tr>\n",
       "    <tr>\n",
       "      <th>6</th>\n",
       "      <td>822</td>\n",
       "      <td>France</td>\n",
       "      <td>Male</td>\n",
       "      <td>50</td>\n",
       "      <td>7</td>\n",
       "      <td>0.0000</td>\n",
       "      <td>2</td>\n",
       "      <td>1</td>\n",
       "      <td>1</td>\n",
       "      <td>10062.8000</td>\n",
       "      <td>0</td>\n",
       "      <td>0.0050</td>\n",
       "      <td>5754</td>\n",
       "      <td>12.2418</td>\n",
       "      <td>2.0000</td>\n",
       "      <td>1.0000</td>\n",
       "      <td>4.0000</td>\n",
       "      <td>3.0000</td>\n",
       "    </tr>\n",
       "    <tr>\n",
       "      <th>7</th>\n",
       "      <td>376</td>\n",
       "      <td>Germany</td>\n",
       "      <td>Female</td>\n",
       "      <td>29</td>\n",
       "      <td>4</td>\n",
       "      <td>115046.7400</td>\n",
       "      <td>4</td>\n",
       "      <td>1</td>\n",
       "      <td>0</td>\n",
       "      <td>119346.8800</td>\n",
       "      <td>1</td>\n",
       "      <td>0.0002</td>\n",
       "      <td>1504</td>\n",
       "      <td>317.4119</td>\n",
       "      <td>1.0000</td>\n",
       "      <td>3.0000</td>\n",
       "      <td>1.0000</td>\n",
       "      <td>2.0000</td>\n",
       "    </tr>\n",
       "    <tr>\n",
       "      <th>8</th>\n",
       "      <td>501</td>\n",
       "      <td>France</td>\n",
       "      <td>Male</td>\n",
       "      <td>44</td>\n",
       "      <td>4</td>\n",
       "      <td>142051.0700</td>\n",
       "      <td>2</td>\n",
       "      <td>0</td>\n",
       "      <td>1</td>\n",
       "      <td>74940.5000</td>\n",
       "      <td>0</td>\n",
       "      <td>0.0006</td>\n",
       "      <td>2004</td>\n",
       "      <td>149.5818</td>\n",
       "      <td>2.0000</td>\n",
       "      <td>2.0000</td>\n",
       "      <td>2.0000</td>\n",
       "      <td>2.0000</td>\n",
       "    </tr>\n",
       "    <tr>\n",
       "      <th>9</th>\n",
       "      <td>684</td>\n",
       "      <td>France</td>\n",
       "      <td>Male</td>\n",
       "      <td>27</td>\n",
       "      <td>2</td>\n",
       "      <td>134603.8800</td>\n",
       "      <td>1</td>\n",
       "      <td>1</td>\n",
       "      <td>1</td>\n",
       "      <td>71725.7300</td>\n",
       "      <td>0</td>\n",
       "      <td>0.0004</td>\n",
       "      <td>1368</td>\n",
       "      <td>104.8622</td>\n",
       "      <td>1.0000</td>\n",
       "      <td>2.0000</td>\n",
       "      <td>3.0000</td>\n",
       "      <td>1.0000</td>\n",
       "    </tr>\n",
       "  </tbody>\n",
       "</table>\n",
       "</div>"
      ],
      "text/plain": [
       "   CREDITSCORE GEOGRAPHY  GENDER  AGE  TENURE     BALANCE  NUMOFPRODUCTS  HASCRCARD  ISACTIVEMEMBER  ESTIMATEDSALARY  EXITED  AGE_ESTIMATED_SALARY  CREDITSCORE_TENURE  ESTIMATEDSALARY_CREDITSCORE  \\\n",
       "0          619    France  Female   42       2      0.0000              1          1               1      101348.8800       1                0.0004                1238                     163.7300   \n",
       "1          608     Spain  Female   41       1  83807.8600              1          0               1      112542.5800       0                0.0004                 608                     185.1029   \n",
       "2          502    France  Female   42       8 159660.8000              3          1               0      113931.5700       1                0.0004                4016                     226.9553   \n",
       "3          699    France  Female   39       1      0.0000              2          0               0       93826.6300       0                0.0004                 699                     134.2298   \n",
       "4          850     Spain  Female   43       2 125510.8200              1          1               1       79084.1000       0                0.0005                1700                      93.0401   \n",
       "5          645     Spain    Male   44       8 113755.7800              2          1               0      149756.7100       1                0.0003                5160                     232.1809   \n",
       "6          822    France    Male   50       7      0.0000              2          1               1       10062.8000       0                0.0050                5754                      12.2418   \n",
       "7          376   Germany  Female   29       4 115046.7400              4          1               0      119346.8800       1                0.0002                1504                     317.4119   \n",
       "8          501    France    Male   44       4 142051.0700              2          0               1       74940.5000       0                0.0006                2004                     149.5818   \n",
       "9          684    France    Male   27       2 134603.8800              1          1               1       71725.7300       0                0.0004                1368                     104.8622   \n",
       "\n",
       "   AGE_CAT  ESTIMATEDSALARY_CAT  CREDITSCORE_CAT  TENURE_CAT  \n",
       "0   2.0000               3.0000           3.0000      1.0000  \n",
       "1   2.0000               3.0000           3.0000      1.0000  \n",
       "2   2.0000               3.0000           2.0000      4.0000  \n",
       "3   2.0000               2.0000           3.0000      1.0000  \n",
       "4   2.0000               2.0000           4.0000      1.0000  \n",
       "5   2.0000               3.0000           3.0000      4.0000  \n",
       "6   2.0000               1.0000           4.0000      3.0000  \n",
       "7   1.0000               3.0000           1.0000      2.0000  \n",
       "8   2.0000               2.0000           2.0000      2.0000  \n",
       "9   1.0000               2.0000           3.0000      1.0000  "
      ]
     },
     "execution_count": 33,
     "metadata": {},
     "output_type": "execute_result"
    }
   ],
   "source": [
    "spark_df.toPandas().head(10)"
   ]
  },
  {
   "cell_type": "code",
   "execution_count": 34,
   "id": "american-ceramic",
   "metadata": {},
   "outputs": [],
   "source": [
    "from pyspark.sql.functions import when\n",
    "\n",
    "card =spark_df.HASCRCARD\n",
    "active = spark_df.ISACTIVEMEMBER\n",
    "\n",
    "spark_df = spark_df.withColumn( \"SEGMENT_CUSTOMER\", \n",
    "                                 when( ((card == 1) & (active == 1 )) , \"BEST_CUSTOMER\" ).\n",
    "                                 when( ((card == 0) & (active == 1 )) , \"ACTIVE_CUSTOMER\").\n",
    "                                 when( ((card == 1) & (active == 0 )) , \"HAS_CARD_CUSTOMER\").\n",
    "                                 otherwise(\"CHURN_CUSTOMER\"))"
   ]
  },
  {
   "cell_type": "code",
   "execution_count": 35,
   "id": "failing-gregory",
   "metadata": {},
   "outputs": [],
   "source": [
    "tenure = spark_df.TENURE\n",
    "product = spark_df.NUMOFPRODUCTS\n",
    "\n",
    "spark_df = spark_df.withColumn(\"SEGMENT_REWARD\",\n",
    "                                when( (tenure > 6) & (product > 2 ), \"HAS_BEST_REWARD\").\n",
    "                                when( (tenure <= 6) & (tenure > 3) & (product <= 2) , \"HAS_MIDDLE_REWARD\").\n",
    "                                otherwise(\"STANDART_REWARD\"))"
   ]
  },
  {
   "cell_type": "code",
   "execution_count": 36,
   "id": "completed-board",
   "metadata": {},
   "outputs": [
    {
     "data": {
      "text/plain": [
       "CREDITSCORE                    0\n",
       "GEOGRAPHY                      0\n",
       "GENDER                         0\n",
       "AGE                            0\n",
       "TENURE                         0\n",
       "BALANCE                        0\n",
       "NUMOFPRODUCTS                  0\n",
       "HASCRCARD                      0\n",
       "ISACTIVEMEMBER                 0\n",
       "ESTIMATEDSALARY                0\n",
       "EXITED                         0\n",
       "AGE_ESTIMATED_SALARY           0\n",
       "CREDITSCORE_TENURE             0\n",
       "ESTIMATEDSALARY_CREDITSCORE    0\n",
       "AGE_CAT                        0\n",
       "ESTIMATEDSALARY_CAT            0\n",
       "CREDITSCORE_CAT                0\n",
       "TENURE_CAT                     0\n",
       "SEGMENT_CUSTOMER               0\n",
       "SEGMENT_REWARD                 0\n",
       "dtype: int64"
      ]
     },
     "execution_count": 36,
     "metadata": {},
     "output_type": "execute_result"
    }
   ],
   "source": [
    "spark_df.toPandas().isnull().sum()"
   ]
  },
  {
   "cell_type": "code",
   "execution_count": 37,
   "id": "coated-helmet",
   "metadata": {},
   "outputs": [],
   "source": [
    "############################\n",
    "# Label Encoding\n",
    "############################"
   ]
  },
  {
   "cell_type": "code",
   "execution_count": 38,
   "id": "valued-suite",
   "metadata": {},
   "outputs": [],
   "source": [
    "from pyspark.ml.feature import OneHotEncoder,StringIndexer"
   ]
  },
  {
   "cell_type": "code",
   "execution_count": 39,
   "id": "social-length",
   "metadata": {},
   "outputs": [
    {
     "data": {
      "text/plain": [
       "['GEOGRAPHY', 'GENDER', 'SEGMENT_CUSTOMER', 'SEGMENT_REWARD']"
      ]
     },
     "execution_count": 39,
     "metadata": {},
     "output_type": "execute_result"
    }
   ],
   "source": [
    "cat_cols = [col[0] for col in spark_df.dtypes if col[1] == \"string\"]\n",
    "cat_cols"
   ]
  },
  {
   "cell_type": "code",
   "execution_count": 40,
   "id": "backed-literature",
   "metadata": {},
   "outputs": [
    {
     "name": "stdout",
     "output_type": "stream",
     "text": [
      "+---------+------+-----------------+---------------+\n",
      "|GEOGRAPHY|GENDER| SEGMENT_CUSTOMER| SEGMENT_REWARD|\n",
      "+---------+------+-----------------+---------------+\n",
      "|   France|Female|    BEST_CUSTOMER|STANDART_REWARD|\n",
      "|    Spain|Female|  ACTIVE_CUSTOMER|STANDART_REWARD|\n",
      "|   France|Female|HAS_CARD_CUSTOMER|HAS_BEST_REWARD|\n",
      "|   France|Female|   CHURN_CUSTOMER|STANDART_REWARD|\n",
      "|    Spain|Female|    BEST_CUSTOMER|STANDART_REWARD|\n",
      "+---------+------+-----------------+---------------+\n",
      "only showing top 5 rows\n",
      "\n"
     ]
    }
   ],
   "source": [
    "spark_df.select(cat_cols).show(5)"
   ]
  },
  {
   "cell_type": "code",
   "execution_count": 41,
   "id": "recorded-contest",
   "metadata": {},
   "outputs": [
    {
     "name": "stdout",
     "output_type": "stream",
     "text": [
      "+---------------+\n",
      "|GEOGRAPHY_LABEL|\n",
      "+---------------+\n",
      "|              0|\n",
      "|              2|\n",
      "|              0|\n",
      "|              0|\n",
      "+---------------+\n",
      "only showing top 4 rows\n",
      "\n"
     ]
    }
   ],
   "source": [
    "indexer_geo = StringIndexer(inputCol=\"GEOGRAPHY\", outputCol = \"GEOGRAPHY_LABEL\")\n",
    "spark_df = indexer_geo.fit(spark_df).transform(spark_df)\n",
    "spark_df = spark_df.withColumn(\"GEOGRAPHY_LABEL\" , spark_df.GEOGRAPHY_LABEL.cast(\"integer\"))\n",
    "spark_df.select(\"GEOGRAPHY_LABEL\").show(4)"
   ]
  },
  {
   "cell_type": "code",
   "execution_count": 42,
   "id": "efficient-nicholas",
   "metadata": {},
   "outputs": [
    {
     "name": "stdout",
     "output_type": "stream",
     "text": [
      "+------------+\n",
      "|GENDER_LABEL|\n",
      "+------------+\n",
      "|           1|\n",
      "|           1|\n",
      "|           1|\n",
      "|           1|\n",
      "+------------+\n",
      "only showing top 4 rows\n",
      "\n"
     ]
    }
   ],
   "source": [
    "indexer_gender = StringIndexer(inputCol=\"GENDER\",outputCol = \"GENDER_LABEL\")\n",
    "spark_df = indexer_gender.fit(spark_df).transform(spark_df)\n",
    "spark_df = spark_df.withColumn(\"GENDER_LABEL\", spark_df.GENDER_LABEL.cast(\"integer\"))\n",
    "spark_df.select(\"GENDER_LABEL\").show(4)"
   ]
  },
  {
   "cell_type": "code",
   "execution_count": 43,
   "id": "occasional-square",
   "metadata": {},
   "outputs": [
    {
     "name": "stdout",
     "output_type": "stream",
     "text": [
      "+--------------+\n",
      "|CUSTOMER_LABEL|\n",
      "+--------------+\n",
      "|             0|\n",
      "|             2|\n",
      "|             1|\n",
      "|             3|\n",
      "+--------------+\n",
      "only showing top 4 rows\n",
      "\n"
     ]
    }
   ],
   "source": [
    "indexer_customer = StringIndexer(inputCol = \"SEGMENT_CUSTOMER\" , outputCol = \"CUSTOMER_LABEL\")\n",
    "spark_df = indexer_customer.fit(spark_df).transform(spark_df)\n",
    "spark_df = spark_df.withColumn(\"CUSTOMER_LABEL\",spark_df.CUSTOMER_LABEL.cast(\"integer\"))\n",
    "spark_df.select(\"CUSTOMER_LABEL\").show(4)"
   ]
  },
  {
   "cell_type": "code",
   "execution_count": 44,
   "id": "medieval-preference",
   "metadata": {},
   "outputs": [
    {
     "name": "stdout",
     "output_type": "stream",
     "text": [
      "+------------+\n",
      "|REWARD_LABEL|\n",
      "+------------+\n",
      "|           0|\n",
      "|           0|\n",
      "|           2|\n",
      "|           0|\n",
      "+------------+\n",
      "only showing top 4 rows\n",
      "\n"
     ]
    }
   ],
   "source": [
    "indexer_reward = StringIndexer(inputCol= \"SEGMENT_REWARD\", outputCol = \"REWARD_LABEL\")\n",
    "spark_df = indexer_reward.fit(spark_df).transform(spark_df)\n",
    "spark_df = spark_df.withColumn(\"REWARD_LABEL\", spark_df.REWARD_LABEL.cast(\"integer\"))\n",
    "spark_df.select(\"REWARD_LABEL\").show(4)"
   ]
  },
  {
   "cell_type": "code",
   "execution_count": 45,
   "id": "convertible-commander",
   "metadata": {},
   "outputs": [
    {
     "data": {
      "text/plain": [
       "CREDITSCORE                    0\n",
       "GEOGRAPHY                      0\n",
       "GENDER                         0\n",
       "AGE                            0\n",
       "TENURE                         0\n",
       "BALANCE                        0\n",
       "NUMOFPRODUCTS                  0\n",
       "HASCRCARD                      0\n",
       "ISACTIVEMEMBER                 0\n",
       "ESTIMATEDSALARY                0\n",
       "EXITED                         0\n",
       "AGE_ESTIMATED_SALARY           0\n",
       "CREDITSCORE_TENURE             0\n",
       "ESTIMATEDSALARY_CREDITSCORE    0\n",
       "AGE_CAT                        0\n",
       "ESTIMATEDSALARY_CAT            0\n",
       "CREDITSCORE_CAT                0\n",
       "TENURE_CAT                     0\n",
       "SEGMENT_CUSTOMER               0\n",
       "SEGMENT_REWARD                 0\n",
       "GEOGRAPHY_LABEL                0\n",
       "GENDER_LABEL                   0\n",
       "CUSTOMER_LABEL                 0\n",
       "REWARD_LABEL                   0\n",
       "dtype: int64"
      ]
     },
     "execution_count": 45,
     "metadata": {},
     "output_type": "execute_result"
    }
   ],
   "source": [
    "spark_df.toPandas().isnull().sum()"
   ]
  },
  {
   "cell_type": "code",
   "execution_count": 46,
   "id": "usual-purpose",
   "metadata": {},
   "outputs": [
    {
     "data": {
      "text/html": [
       "<div>\n",
       "<style scoped>\n",
       "    .dataframe tbody tr th:only-of-type {\n",
       "        vertical-align: middle;\n",
       "    }\n",
       "\n",
       "    .dataframe tbody tr th {\n",
       "        vertical-align: top;\n",
       "    }\n",
       "\n",
       "    .dataframe thead th {\n",
       "        text-align: right;\n",
       "    }\n",
       "</style>\n",
       "<table border=\"1\" class=\"dataframe\">\n",
       "  <thead>\n",
       "    <tr style=\"text-align: right;\">\n",
       "      <th></th>\n",
       "      <th>CREDITSCORE</th>\n",
       "      <th>GEOGRAPHY</th>\n",
       "      <th>GENDER</th>\n",
       "      <th>AGE</th>\n",
       "      <th>TENURE</th>\n",
       "      <th>BALANCE</th>\n",
       "      <th>NUMOFPRODUCTS</th>\n",
       "      <th>HASCRCARD</th>\n",
       "      <th>ISACTIVEMEMBER</th>\n",
       "      <th>ESTIMATEDSALARY</th>\n",
       "      <th>EXITED</th>\n",
       "      <th>AGE_ESTIMATED_SALARY</th>\n",
       "      <th>CREDITSCORE_TENURE</th>\n",
       "      <th>ESTIMATEDSALARY_CREDITSCORE</th>\n",
       "      <th>AGE_CAT</th>\n",
       "      <th>ESTIMATEDSALARY_CAT</th>\n",
       "      <th>CREDITSCORE_CAT</th>\n",
       "      <th>TENURE_CAT</th>\n",
       "      <th>SEGMENT_CUSTOMER</th>\n",
       "      <th>SEGMENT_REWARD</th>\n",
       "      <th>GEOGRAPHY_LABEL</th>\n",
       "      <th>GENDER_LABEL</th>\n",
       "      <th>CUSTOMER_LABEL</th>\n",
       "      <th>REWARD_LABEL</th>\n",
       "    </tr>\n",
       "  </thead>\n",
       "  <tbody>\n",
       "    <tr>\n",
       "      <th>0</th>\n",
       "      <td>619</td>\n",
       "      <td>France</td>\n",
       "      <td>Female</td>\n",
       "      <td>42</td>\n",
       "      <td>2</td>\n",
       "      <td>0.0000</td>\n",
       "      <td>1</td>\n",
       "      <td>1</td>\n",
       "      <td>1</td>\n",
       "      <td>101348.8800</td>\n",
       "      <td>1</td>\n",
       "      <td>0.0004</td>\n",
       "      <td>1238</td>\n",
       "      <td>163.7300</td>\n",
       "      <td>2.0000</td>\n",
       "      <td>3.0000</td>\n",
       "      <td>3.0000</td>\n",
       "      <td>1.0000</td>\n",
       "      <td>BEST_CUSTOMER</td>\n",
       "      <td>STANDART_REWARD</td>\n",
       "      <td>0</td>\n",
       "      <td>1</td>\n",
       "      <td>0</td>\n",
       "      <td>0</td>\n",
       "    </tr>\n",
       "    <tr>\n",
       "      <th>1</th>\n",
       "      <td>608</td>\n",
       "      <td>Spain</td>\n",
       "      <td>Female</td>\n",
       "      <td>41</td>\n",
       "      <td>1</td>\n",
       "      <td>83807.8600</td>\n",
       "      <td>1</td>\n",
       "      <td>0</td>\n",
       "      <td>1</td>\n",
       "      <td>112542.5800</td>\n",
       "      <td>0</td>\n",
       "      <td>0.0004</td>\n",
       "      <td>608</td>\n",
       "      <td>185.1029</td>\n",
       "      <td>2.0000</td>\n",
       "      <td>3.0000</td>\n",
       "      <td>3.0000</td>\n",
       "      <td>1.0000</td>\n",
       "      <td>ACTIVE_CUSTOMER</td>\n",
       "      <td>STANDART_REWARD</td>\n",
       "      <td>2</td>\n",
       "      <td>1</td>\n",
       "      <td>2</td>\n",
       "      <td>0</td>\n",
       "    </tr>\n",
       "    <tr>\n",
       "      <th>2</th>\n",
       "      <td>502</td>\n",
       "      <td>France</td>\n",
       "      <td>Female</td>\n",
       "      <td>42</td>\n",
       "      <td>8</td>\n",
       "      <td>159660.8000</td>\n",
       "      <td>3</td>\n",
       "      <td>1</td>\n",
       "      <td>0</td>\n",
       "      <td>113931.5700</td>\n",
       "      <td>1</td>\n",
       "      <td>0.0004</td>\n",
       "      <td>4016</td>\n",
       "      <td>226.9553</td>\n",
       "      <td>2.0000</td>\n",
       "      <td>3.0000</td>\n",
       "      <td>2.0000</td>\n",
       "      <td>4.0000</td>\n",
       "      <td>HAS_CARD_CUSTOMER</td>\n",
       "      <td>HAS_BEST_REWARD</td>\n",
       "      <td>0</td>\n",
       "      <td>1</td>\n",
       "      <td>1</td>\n",
       "      <td>2</td>\n",
       "    </tr>\n",
       "    <tr>\n",
       "      <th>3</th>\n",
       "      <td>699</td>\n",
       "      <td>France</td>\n",
       "      <td>Female</td>\n",
       "      <td>39</td>\n",
       "      <td>1</td>\n",
       "      <td>0.0000</td>\n",
       "      <td>2</td>\n",
       "      <td>0</td>\n",
       "      <td>0</td>\n",
       "      <td>93826.6300</td>\n",
       "      <td>0</td>\n",
       "      <td>0.0004</td>\n",
       "      <td>699</td>\n",
       "      <td>134.2298</td>\n",
       "      <td>2.0000</td>\n",
       "      <td>2.0000</td>\n",
       "      <td>3.0000</td>\n",
       "      <td>1.0000</td>\n",
       "      <td>CHURN_CUSTOMER</td>\n",
       "      <td>STANDART_REWARD</td>\n",
       "      <td>0</td>\n",
       "      <td>1</td>\n",
       "      <td>3</td>\n",
       "      <td>0</td>\n",
       "    </tr>\n",
       "    <tr>\n",
       "      <th>4</th>\n",
       "      <td>850</td>\n",
       "      <td>Spain</td>\n",
       "      <td>Female</td>\n",
       "      <td>43</td>\n",
       "      <td>2</td>\n",
       "      <td>125510.8200</td>\n",
       "      <td>1</td>\n",
       "      <td>1</td>\n",
       "      <td>1</td>\n",
       "      <td>79084.1000</td>\n",
       "      <td>0</td>\n",
       "      <td>0.0005</td>\n",
       "      <td>1700</td>\n",
       "      <td>93.0401</td>\n",
       "      <td>2.0000</td>\n",
       "      <td>2.0000</td>\n",
       "      <td>4.0000</td>\n",
       "      <td>1.0000</td>\n",
       "      <td>BEST_CUSTOMER</td>\n",
       "      <td>STANDART_REWARD</td>\n",
       "      <td>2</td>\n",
       "      <td>1</td>\n",
       "      <td>0</td>\n",
       "      <td>0</td>\n",
       "    </tr>\n",
       "    <tr>\n",
       "      <th>5</th>\n",
       "      <td>645</td>\n",
       "      <td>Spain</td>\n",
       "      <td>Male</td>\n",
       "      <td>44</td>\n",
       "      <td>8</td>\n",
       "      <td>113755.7800</td>\n",
       "      <td>2</td>\n",
       "      <td>1</td>\n",
       "      <td>0</td>\n",
       "      <td>149756.7100</td>\n",
       "      <td>1</td>\n",
       "      <td>0.0003</td>\n",
       "      <td>5160</td>\n",
       "      <td>232.1809</td>\n",
       "      <td>2.0000</td>\n",
       "      <td>3.0000</td>\n",
       "      <td>3.0000</td>\n",
       "      <td>4.0000</td>\n",
       "      <td>HAS_CARD_CUSTOMER</td>\n",
       "      <td>STANDART_REWARD</td>\n",
       "      <td>2</td>\n",
       "      <td>0</td>\n",
       "      <td>1</td>\n",
       "      <td>0</td>\n",
       "    </tr>\n",
       "    <tr>\n",
       "      <th>6</th>\n",
       "      <td>822</td>\n",
       "      <td>France</td>\n",
       "      <td>Male</td>\n",
       "      <td>50</td>\n",
       "      <td>7</td>\n",
       "      <td>0.0000</td>\n",
       "      <td>2</td>\n",
       "      <td>1</td>\n",
       "      <td>1</td>\n",
       "      <td>10062.8000</td>\n",
       "      <td>0</td>\n",
       "      <td>0.0050</td>\n",
       "      <td>5754</td>\n",
       "      <td>12.2418</td>\n",
       "      <td>2.0000</td>\n",
       "      <td>1.0000</td>\n",
       "      <td>4.0000</td>\n",
       "      <td>3.0000</td>\n",
       "      <td>BEST_CUSTOMER</td>\n",
       "      <td>STANDART_REWARD</td>\n",
       "      <td>0</td>\n",
       "      <td>0</td>\n",
       "      <td>0</td>\n",
       "      <td>0</td>\n",
       "    </tr>\n",
       "    <tr>\n",
       "      <th>7</th>\n",
       "      <td>376</td>\n",
       "      <td>Germany</td>\n",
       "      <td>Female</td>\n",
       "      <td>29</td>\n",
       "      <td>4</td>\n",
       "      <td>115046.7400</td>\n",
       "      <td>4</td>\n",
       "      <td>1</td>\n",
       "      <td>0</td>\n",
       "      <td>119346.8800</td>\n",
       "      <td>1</td>\n",
       "      <td>0.0002</td>\n",
       "      <td>1504</td>\n",
       "      <td>317.4119</td>\n",
       "      <td>1.0000</td>\n",
       "      <td>3.0000</td>\n",
       "      <td>1.0000</td>\n",
       "      <td>2.0000</td>\n",
       "      <td>HAS_CARD_CUSTOMER</td>\n",
       "      <td>STANDART_REWARD</td>\n",
       "      <td>1</td>\n",
       "      <td>1</td>\n",
       "      <td>1</td>\n",
       "      <td>0</td>\n",
       "    </tr>\n",
       "    <tr>\n",
       "      <th>8</th>\n",
       "      <td>501</td>\n",
       "      <td>France</td>\n",
       "      <td>Male</td>\n",
       "      <td>44</td>\n",
       "      <td>4</td>\n",
       "      <td>142051.0700</td>\n",
       "      <td>2</td>\n",
       "      <td>0</td>\n",
       "      <td>1</td>\n",
       "      <td>74940.5000</td>\n",
       "      <td>0</td>\n",
       "      <td>0.0006</td>\n",
       "      <td>2004</td>\n",
       "      <td>149.5818</td>\n",
       "      <td>2.0000</td>\n",
       "      <td>2.0000</td>\n",
       "      <td>2.0000</td>\n",
       "      <td>2.0000</td>\n",
       "      <td>ACTIVE_CUSTOMER</td>\n",
       "      <td>HAS_MIDDLE_REWARD</td>\n",
       "      <td>0</td>\n",
       "      <td>0</td>\n",
       "      <td>2</td>\n",
       "      <td>1</td>\n",
       "    </tr>\n",
       "    <tr>\n",
       "      <th>9</th>\n",
       "      <td>684</td>\n",
       "      <td>France</td>\n",
       "      <td>Male</td>\n",
       "      <td>27</td>\n",
       "      <td>2</td>\n",
       "      <td>134603.8800</td>\n",
       "      <td>1</td>\n",
       "      <td>1</td>\n",
       "      <td>1</td>\n",
       "      <td>71725.7300</td>\n",
       "      <td>0</td>\n",
       "      <td>0.0004</td>\n",
       "      <td>1368</td>\n",
       "      <td>104.8622</td>\n",
       "      <td>1.0000</td>\n",
       "      <td>2.0000</td>\n",
       "      <td>3.0000</td>\n",
       "      <td>1.0000</td>\n",
       "      <td>BEST_CUSTOMER</td>\n",
       "      <td>STANDART_REWARD</td>\n",
       "      <td>0</td>\n",
       "      <td>0</td>\n",
       "      <td>0</td>\n",
       "      <td>0</td>\n",
       "    </tr>\n",
       "  </tbody>\n",
       "</table>\n",
       "</div>"
      ],
      "text/plain": [
       "   CREDITSCORE GEOGRAPHY  GENDER  AGE  TENURE     BALANCE  NUMOFPRODUCTS  HASCRCARD  ISACTIVEMEMBER  ESTIMATEDSALARY  EXITED  AGE_ESTIMATED_SALARY  CREDITSCORE_TENURE  ESTIMATEDSALARY_CREDITSCORE  \\\n",
       "0          619    France  Female   42       2      0.0000              1          1               1      101348.8800       1                0.0004                1238                     163.7300   \n",
       "1          608     Spain  Female   41       1  83807.8600              1          0               1      112542.5800       0                0.0004                 608                     185.1029   \n",
       "2          502    France  Female   42       8 159660.8000              3          1               0      113931.5700       1                0.0004                4016                     226.9553   \n",
       "3          699    France  Female   39       1      0.0000              2          0               0       93826.6300       0                0.0004                 699                     134.2298   \n",
       "4          850     Spain  Female   43       2 125510.8200              1          1               1       79084.1000       0                0.0005                1700                      93.0401   \n",
       "5          645     Spain    Male   44       8 113755.7800              2          1               0      149756.7100       1                0.0003                5160                     232.1809   \n",
       "6          822    France    Male   50       7      0.0000              2          1               1       10062.8000       0                0.0050                5754                      12.2418   \n",
       "7          376   Germany  Female   29       4 115046.7400              4          1               0      119346.8800       1                0.0002                1504                     317.4119   \n",
       "8          501    France    Male   44       4 142051.0700              2          0               1       74940.5000       0                0.0006                2004                     149.5818   \n",
       "9          684    France    Male   27       2 134603.8800              1          1               1       71725.7300       0                0.0004                1368                     104.8622   \n",
       "\n",
       "   AGE_CAT  ESTIMATEDSALARY_CAT  CREDITSCORE_CAT  TENURE_CAT   SEGMENT_CUSTOMER     SEGMENT_REWARD  GEOGRAPHY_LABEL  GENDER_LABEL  CUSTOMER_LABEL  REWARD_LABEL  \n",
       "0   2.0000               3.0000           3.0000      1.0000      BEST_CUSTOMER    STANDART_REWARD                0             1               0             0  \n",
       "1   2.0000               3.0000           3.0000      1.0000    ACTIVE_CUSTOMER    STANDART_REWARD                2             1               2             0  \n",
       "2   2.0000               3.0000           2.0000      4.0000  HAS_CARD_CUSTOMER    HAS_BEST_REWARD                0             1               1             2  \n",
       "3   2.0000               2.0000           3.0000      1.0000     CHURN_CUSTOMER    STANDART_REWARD                0             1               3             0  \n",
       "4   2.0000               2.0000           4.0000      1.0000      BEST_CUSTOMER    STANDART_REWARD                2             1               0             0  \n",
       "5   2.0000               3.0000           3.0000      4.0000  HAS_CARD_CUSTOMER    STANDART_REWARD                2             0               1             0  \n",
       "6   2.0000               1.0000           4.0000      3.0000      BEST_CUSTOMER    STANDART_REWARD                0             0               0             0  \n",
       "7   1.0000               3.0000           1.0000      2.0000  HAS_CARD_CUSTOMER    STANDART_REWARD                1             1               1             0  \n",
       "8   2.0000               2.0000           2.0000      2.0000    ACTIVE_CUSTOMER  HAS_MIDDLE_REWARD                0             0               2             1  \n",
       "9   1.0000               2.0000           3.0000      1.0000      BEST_CUSTOMER    STANDART_REWARD                0             0               0             0  "
      ]
     },
     "execution_count": 46,
     "metadata": {},
     "output_type": "execute_result"
    }
   ],
   "source": [
    "spark_df.toPandas().head(10)"
   ]
  },
  {
   "cell_type": "code",
   "execution_count": 47,
   "id": "material-warner",
   "metadata": {},
   "outputs": [],
   "source": [
    "############################\n",
    "# One Hot Encoding\n",
    "############################"
   ]
  },
  {
   "cell_type": "code",
   "execution_count": 48,
   "id": "polished-suite",
   "metadata": {},
   "outputs": [],
   "source": [
    "from pyspark.ml.feature import OneHotEncoder"
   ]
  },
  {
   "cell_type": "code",
   "execution_count": 49,
   "id": "vital-batman",
   "metadata": {},
   "outputs": [],
   "source": [
    "labels = ['GEOGRAPHY_LABEL', 'GENDER_LABEL','CUSTOMER_LABEL','REWARD_LABEL']\n",
    "labels_one = [col + str(\"_ONE\") for col in labels]"
   ]
  },
  {
   "cell_type": "code",
   "execution_count": 50,
   "id": "split-alliance",
   "metadata": {},
   "outputs": [
    {
     "data": {
      "text/plain": [
       "['GEOGRAPHY_LABEL_ONE',\n",
       " 'GENDER_LABEL_ONE',\n",
       " 'CUSTOMER_LABEL_ONE',\n",
       " 'REWARD_LABEL_ONE']"
      ]
     },
     "execution_count": 50,
     "metadata": {},
     "output_type": "execute_result"
    }
   ],
   "source": [
    "labels_one"
   ]
  },
  {
   "cell_type": "code",
   "execution_count": 51,
   "id": "respected-picnic",
   "metadata": {},
   "outputs": [
    {
     "name": "stdout",
     "output_type": "stream",
     "text": [
      "-RECORD 0--------------------------------------------\n",
      " CREDITSCORE                 | 619                   \n",
      " GEOGRAPHY                   | France                \n",
      " GENDER                      | Female                \n",
      " AGE                         | 42                    \n",
      " TENURE                      | 2                     \n",
      " BALANCE                     | 0.0                   \n",
      " NUMOFPRODUCTS               | 1                     \n",
      " HASCRCARD                   | 1                     \n",
      " ISACTIVEMEMBER              | 1                     \n",
      " ESTIMATEDSALARY             | 101348.88             \n",
      " EXITED                      | 1                     \n",
      " AGE_ESTIMATED_SALARY        | 4.144101049759997E-4  \n",
      " CREDITSCORE_TENURE          | 1238                  \n",
      " ESTIMATEDSALARY_CREDITSCORE | 163.73001615508886    \n",
      " AGE_CAT                     | 2.0                   \n",
      " ESTIMATEDSALARY_CAT         | 3.0                   \n",
      " CREDITSCORE_CAT             | 3.0                   \n",
      " TENURE_CAT                  | 1.0                   \n",
      " SEGMENT_CUSTOMER            | BEST_CUSTOMER         \n",
      " SEGMENT_REWARD              | STANDART_REWARD       \n",
      " GEOGRAPHY_LABEL             | 0                     \n",
      " GENDER_LABEL                | 1                     \n",
      " CUSTOMER_LABEL              | 0                     \n",
      " REWARD_LABEL                | 0                     \n",
      " GEOGRAPHY_LABEL_ONE         | (2,[0],[1.0])         \n",
      " GENDER_LABEL_ONE            | (1,[],[])             \n",
      " CUSTOMER_LABEL_ONE          | (3,[0],[1.0])         \n",
      " REWARD_LABEL_ONE            | (2,[0],[1.0])         \n",
      "-RECORD 1--------------------------------------------\n",
      " CREDITSCORE                 | 608                   \n",
      " GEOGRAPHY                   | Spain                 \n",
      " GENDER                      | Female                \n",
      " AGE                         | 41                    \n",
      " TENURE                      | 1                     \n",
      " BALANCE                     | 83807.86              \n",
      " NUMOFPRODUCTS               | 1                     \n",
      " HASCRCARD                   | 0                     \n",
      " ISACTIVEMEMBER              | 1                     \n",
      " ESTIMATEDSALARY             | 112542.58             \n",
      " EXITED                      | 0                     \n",
      " AGE_ESTIMATED_SALARY        | 3.64306558459918E-4   \n",
      " CREDITSCORE_TENURE          | 608                   \n",
      " ESTIMATEDSALARY_CREDITSCORE | 185.10292763157895    \n",
      " AGE_CAT                     | 2.0                   \n",
      " ESTIMATEDSALARY_CAT         | 3.0                   \n",
      " CREDITSCORE_CAT             | 3.0                   \n",
      " TENURE_CAT                  | 1.0                   \n",
      " SEGMENT_CUSTOMER            | ACTIVE_CUSTOMER       \n",
      " SEGMENT_REWARD              | STANDART_REWARD       \n",
      " GEOGRAPHY_LABEL             | 2                     \n",
      " GENDER_LABEL                | 1                     \n",
      " CUSTOMER_LABEL              | 2                     \n",
      " REWARD_LABEL                | 0                     \n",
      " GEOGRAPHY_LABEL_ONE         | (2,[],[])             \n",
      " GENDER_LABEL_ONE            | (1,[],[])             \n",
      " CUSTOMER_LABEL_ONE          | (3,[2],[1.0])         \n",
      " REWARD_LABEL_ONE            | (2,[0],[1.0])         \n",
      "-RECORD 2--------------------------------------------\n",
      " CREDITSCORE                 | 502                   \n",
      " GEOGRAPHY                   | France                \n",
      " GENDER                      | Female                \n",
      " AGE                         | 42                    \n",
      " TENURE                      | 8                     \n",
      " BALANCE                     | 159660.8              \n",
      " NUMOFPRODUCTS               | 3                     \n",
      " HASCRCARD                   | 1                     \n",
      " ISACTIVEMEMBER              | 0                     \n",
      " ESTIMATEDSALARY             | 113931.57             \n",
      " EXITED                      | 1                     \n",
      " AGE_ESTIMATED_SALARY        | 3.68642335043746E-4   \n",
      " CREDITSCORE_TENURE          | 4016                  \n",
      " ESTIMATEDSALARY_CREDITSCORE | 226.9553187250996     \n",
      " AGE_CAT                     | 2.0                   \n",
      " ESTIMATEDSALARY_CAT         | 3.0                   \n",
      " CREDITSCORE_CAT             | 2.0                   \n",
      " TENURE_CAT                  | 4.0                   \n",
      " SEGMENT_CUSTOMER            | HAS_CARD_CUSTOMER     \n",
      " SEGMENT_REWARD              | HAS_BEST_REWARD       \n",
      " GEOGRAPHY_LABEL             | 0                     \n",
      " GENDER_LABEL                | 1                     \n",
      " CUSTOMER_LABEL              | 1                     \n",
      " REWARD_LABEL                | 2                     \n",
      " GEOGRAPHY_LABEL_ONE         | (2,[0],[1.0])         \n",
      " GENDER_LABEL_ONE            | (1,[],[])             \n",
      " CUSTOMER_LABEL_ONE          | (3,[1],[1.0])         \n",
      " REWARD_LABEL_ONE            | (2,[],[])             \n",
      "-RECORD 3--------------------------------------------\n",
      " CREDITSCORE                 | 699                   \n",
      " GEOGRAPHY                   | France                \n",
      " GENDER                      | Female                \n",
      " AGE                         | 39                    \n",
      " TENURE                      | 1                     \n",
      " BALANCE                     | 0.0                   \n",
      " NUMOFPRODUCTS               | 2                     \n",
      " HASCRCARD                   | 0                     \n",
      " ISACTIVEMEMBER              | 0                     \n",
      " ESTIMATEDSALARY             | 93826.63              \n",
      " EXITED                      | 0                     \n",
      " AGE_ESTIMATED_SALARY        | 4.1566024485798967E-4 \n",
      " CREDITSCORE_TENURE          | 699                   \n",
      " ESTIMATEDSALARY_CREDITSCORE | 134.229799713877      \n",
      " AGE_CAT                     | 2.0                   \n",
      " ESTIMATEDSALARY_CAT         | 2.0                   \n",
      " CREDITSCORE_CAT             | 3.0                   \n",
      " TENURE_CAT                  | 1.0                   \n",
      " SEGMENT_CUSTOMER            | CHURN_CUSTOMER        \n",
      " SEGMENT_REWARD              | STANDART_REWARD       \n",
      " GEOGRAPHY_LABEL             | 0                     \n",
      " GENDER_LABEL                | 1                     \n",
      " CUSTOMER_LABEL              | 3                     \n",
      " REWARD_LABEL                | 0                     \n",
      " GEOGRAPHY_LABEL_ONE         | (2,[0],[1.0])         \n",
      " GENDER_LABEL_ONE            | (1,[],[])             \n",
      " CUSTOMER_LABEL_ONE          | (3,[],[])             \n",
      " REWARD_LABEL_ONE            | (2,[0],[1.0])         \n",
      "-RECORD 4--------------------------------------------\n",
      " CREDITSCORE                 | 850                   \n",
      " GEOGRAPHY                   | Spain                 \n",
      " GENDER                      | Female                \n",
      " AGE                         | 43                    \n",
      " TENURE                      | 2                     \n",
      " BALANCE                     | 125510.82             \n",
      " NUMOFPRODUCTS               | 1                     \n",
      " HASCRCARD                   | 1                     \n",
      " ISACTIVEMEMBER              | 1                     \n",
      " ESTIMATEDSALARY             | 79084.1               \n",
      " EXITED                      | 0                     \n",
      " AGE_ESTIMATED_SALARY        | 5.437249712647675E-4  \n",
      " CREDITSCORE_TENURE          | 1700                  \n",
      " ESTIMATEDSALARY_CREDITSCORE | 93.04011764705884     \n",
      " AGE_CAT                     | 2.0                   \n",
      " ESTIMATEDSALARY_CAT         | 2.0                   \n",
      " CREDITSCORE_CAT             | 4.0                   \n",
      " TENURE_CAT                  | 1.0                   \n",
      " SEGMENT_CUSTOMER            | BEST_CUSTOMER         \n",
      " SEGMENT_REWARD              | STANDART_REWARD       \n",
      " GEOGRAPHY_LABEL             | 2                     \n",
      " GENDER_LABEL                | 1                     \n",
      " CUSTOMER_LABEL              | 0                     \n",
      " REWARD_LABEL                | 0                     \n",
      " GEOGRAPHY_LABEL_ONE         | (2,[],[])             \n",
      " GENDER_LABEL_ONE            | (1,[],[])             \n",
      " CUSTOMER_LABEL_ONE          | (3,[0],[1.0])         \n",
      " REWARD_LABEL_ONE            | (2,[0],[1.0])         \n",
      "-RECORD 5--------------------------------------------\n",
      " CREDITSCORE                 | 645                   \n",
      " GEOGRAPHY                   | Spain                 \n",
      " GENDER                      | Male                  \n",
      " AGE                         | 44                    \n",
      " TENURE                      | 8                     \n",
      " BALANCE                     | 113755.78             \n",
      " NUMOFPRODUCTS               | 2                     \n",
      " HASCRCARD                   | 1                     \n",
      " ISACTIVEMEMBER              | 0                     \n",
      " ESTIMATEDSALARY             | 149756.71             \n",
      " EXITED                      | 1                     \n",
      " AGE_ESTIMATED_SALARY        | 2.9380987336059935E-4 \n",
      " CREDITSCORE_TENURE          | 5160                  \n",
      " ESTIMATEDSALARY_CREDITSCORE | 232.1809457364341     \n",
      " AGE_CAT                     | 2.0                   \n",
      " ESTIMATEDSALARY_CAT         | 3.0                   \n",
      " CREDITSCORE_CAT             | 3.0                   \n",
      " TENURE_CAT                  | 4.0                   \n",
      " SEGMENT_CUSTOMER            | HAS_CARD_CUSTOMER     \n",
      " SEGMENT_REWARD              | STANDART_REWARD       \n",
      " GEOGRAPHY_LABEL             | 2                     \n",
      " GENDER_LABEL                | 0                     \n",
      " CUSTOMER_LABEL              | 1                     \n",
      " REWARD_LABEL                | 0                     \n",
      " GEOGRAPHY_LABEL_ONE         | (2,[],[])             \n",
      " GENDER_LABEL_ONE            | (1,[0],[1.0])         \n",
      " CUSTOMER_LABEL_ONE          | (3,[1],[1.0])         \n",
      " REWARD_LABEL_ONE            | (2,[0],[1.0])         \n",
      "-RECORD 6--------------------------------------------\n",
      " CREDITSCORE                 | 822                   \n",
      " GEOGRAPHY                   | France                \n",
      " GENDER                      | Male                  \n",
      " AGE                         | 50                    \n",
      " TENURE                      | 7                     \n",
      " BALANCE                     | 0.0                   \n",
      " NUMOFPRODUCTS               | 2                     \n",
      " HASCRCARD                   | 1                     \n",
      " ISACTIVEMEMBER              | 1                     \n",
      " ESTIMATEDSALARY             | 10062.8               \n",
      " EXITED                      | 0                     \n",
      " AGE_ESTIMATED_SALARY        | 0.004968795961362643  \n",
      " CREDITSCORE_TENURE          | 5754                  \n",
      " ESTIMATEDSALARY_CREDITSCORE | 12.24184914841849     \n",
      " AGE_CAT                     | 2.0                   \n",
      " ESTIMATEDSALARY_CAT         | 1.0                   \n",
      " CREDITSCORE_CAT             | 4.0                   \n",
      " TENURE_CAT                  | 3.0                   \n",
      " SEGMENT_CUSTOMER            | BEST_CUSTOMER         \n",
      " SEGMENT_REWARD              | STANDART_REWARD       \n",
      " GEOGRAPHY_LABEL             | 0                     \n",
      " GENDER_LABEL                | 0                     \n",
      " CUSTOMER_LABEL              | 0                     \n",
      " REWARD_LABEL                | 0                     \n",
      " GEOGRAPHY_LABEL_ONE         | (2,[0],[1.0])         \n",
      " GENDER_LABEL_ONE            | (1,[0],[1.0])         \n",
      " CUSTOMER_LABEL_ONE          | (3,[0],[1.0])         \n",
      " REWARD_LABEL_ONE            | (2,[0],[1.0])         \n",
      "-RECORD 7--------------------------------------------\n",
      " CREDITSCORE                 | 376                   \n",
      " GEOGRAPHY                   | Germany               \n",
      " GENDER                      | Female                \n",
      " AGE                         | 29                    \n",
      " TENURE                      | 4                     \n",
      " BALANCE                     | 115046.74             \n",
      " NUMOFPRODUCTS               | 4                     \n",
      " HASCRCARD                   | 1                     \n",
      " ISACTIVEMEMBER              | 0                     \n",
      " ESTIMATEDSALARY             | 119346.88             \n",
      " EXITED                      | 1                     \n",
      " AGE_ESTIMATED_SALARY        | 2.4298917575390323E-4 \n",
      " CREDITSCORE_TENURE          | 1504                  \n",
      " ESTIMATEDSALARY_CREDITSCORE | 317.41191489361705    \n",
      " AGE_CAT                     | 1.0                   \n",
      " ESTIMATEDSALARY_CAT         | 3.0                   \n",
      " CREDITSCORE_CAT             | 1.0                   \n",
      " TENURE_CAT                  | 2.0                   \n",
      " SEGMENT_CUSTOMER            | HAS_CARD_CUSTOMER     \n",
      " SEGMENT_REWARD              | STANDART_REWARD       \n",
      " GEOGRAPHY_LABEL             | 1                     \n",
      " GENDER_LABEL                | 1                     \n",
      " CUSTOMER_LABEL              | 1                     \n",
      " REWARD_LABEL                | 0                     \n",
      " GEOGRAPHY_LABEL_ONE         | (2,[1],[1.0])         \n",
      " GENDER_LABEL_ONE            | (1,[],[])             \n",
      " CUSTOMER_LABEL_ONE          | (3,[1],[1.0])         \n",
      " REWARD_LABEL_ONE            | (2,[0],[1.0])         \n",
      "-RECORD 8--------------------------------------------\n",
      " CREDITSCORE                 | 501                   \n",
      " GEOGRAPHY                   | France                \n",
      " GENDER                      | Male                  \n",
      " AGE                         | 44                    \n",
      " TENURE                      | 4                     \n",
      " BALANCE                     | 142051.07             \n",
      " NUMOFPRODUCTS               | 2                     \n",
      " HASCRCARD                   | 0                     \n",
      " ISACTIVEMEMBER              | 1                     \n",
      " ESTIMATEDSALARY             | 74940.5               \n",
      " EXITED                      | 0                     \n",
      " AGE_ESTIMATED_SALARY        | 5.871324584170108E-4  \n",
      " CREDITSCORE_TENURE          | 2004                  \n",
      " ESTIMATEDSALARY_CREDITSCORE | 149.58183632734531    \n",
      " AGE_CAT                     | 2.0                   \n",
      " ESTIMATEDSALARY_CAT         | 2.0                   \n",
      " CREDITSCORE_CAT             | 2.0                   \n",
      " TENURE_CAT                  | 2.0                   \n",
      " SEGMENT_CUSTOMER            | ACTIVE_CUSTOMER       \n",
      " SEGMENT_REWARD              | HAS_MIDDLE_REWARD     \n",
      " GEOGRAPHY_LABEL             | 0                     \n",
      " GENDER_LABEL                | 0                     \n",
      " CUSTOMER_LABEL              | 2                     \n",
      " REWARD_LABEL                | 1                     \n",
      " GEOGRAPHY_LABEL_ONE         | (2,[0],[1.0])         \n",
      " GENDER_LABEL_ONE            | (1,[0],[1.0])         \n",
      " CUSTOMER_LABEL_ONE          | (3,[2],[1.0])         \n",
      " REWARD_LABEL_ONE            | (2,[1],[1.0])         \n",
      "-RECORD 9--------------------------------------------\n",
      " CREDITSCORE                 | 684                   \n",
      " GEOGRAPHY                   | France                \n",
      " GENDER                      | Male                  \n",
      " AGE                         | 27                    \n",
      " TENURE                      | 2                     \n",
      " BALANCE                     | 134603.88             \n",
      " NUMOFPRODUCTS               | 1                     \n",
      " HASCRCARD                   | 1                     \n",
      " ISACTIVEMEMBER              | 1                     \n",
      " ESTIMATEDSALARY             | 71725.73              \n",
      " EXITED                      | 0                     \n",
      " AGE_ESTIMATED_SALARY        | 3.764339519444417E-4  \n",
      " CREDITSCORE_TENURE          | 1368                  \n",
      " ESTIMATEDSALARY_CREDITSCORE | 104.86217836257309    \n",
      " AGE_CAT                     | 1.0                   \n",
      " ESTIMATEDSALARY_CAT         | 2.0                   \n",
      " CREDITSCORE_CAT             | 3.0                   \n",
      " TENURE_CAT                  | 1.0                   \n",
      " SEGMENT_CUSTOMER            | BEST_CUSTOMER         \n",
      " SEGMENT_REWARD              | STANDART_REWARD       \n",
      " GEOGRAPHY_LABEL             | 0                     \n",
      " GENDER_LABEL                | 0                     \n",
      " CUSTOMER_LABEL              | 0                     \n",
      " REWARD_LABEL                | 0                     \n",
      " GEOGRAPHY_LABEL_ONE         | (2,[0],[1.0])         \n",
      " GENDER_LABEL_ONE            | (1,[0],[1.0])         \n",
      " CUSTOMER_LABEL_ONE          | (3,[0],[1.0])         \n",
      " REWARD_LABEL_ONE            | (2,[0],[1.0])         \n",
      "only showing top 10 rows\n",
      "\n"
     ]
    }
   ],
   "source": [
    "encoder = OneHotEncoder(inputCols=labels, outputCols=labels_one)\n",
    "spark_df = encoder.fit(spark_df).transform(spark_df)\n",
    "spark_df.show(10,truncate=False,vertical=True)"
   ]
  },
  {
   "cell_type": "code",
   "execution_count": 52,
   "id": "ecological-minneapolis",
   "metadata": {},
   "outputs": [],
   "source": [
    "############################\n",
    "# TARGET'ın Tanımlanması\n",
    "############################"
   ]
  },
  {
   "cell_type": "code",
   "execution_count": 53,
   "id": "south-freedom",
   "metadata": {},
   "outputs": [
    {
     "data": {
      "text/plain": [
       "[]"
      ]
     },
     "execution_count": 53,
     "metadata": {},
     "output_type": "execute_result"
    }
   ],
   "source": [
    "# İlk önce stringleri bir atalım hazırlık yapalım...\n",
    "# String yok !!!\n",
    "\n",
    "cat_cols = [col[0] for col in spark_df.dtypes if col[1] == \"string\"]\n",
    "\n",
    "spark_df = spark_df.drop('GEOGRAPHY', 'GENDER', 'SEGMENT_CUSTOMER', 'SEGMENT_REWARD', \\\n",
    "                         'GEOGRAPHY_LABEL', 'GENDER_LABEL', 'CUSTOMER_LABEL', 'REWARD_LABEL')\n",
    "\n",
    "string_ = [col[0] for col in spark_df.dtypes if col[1] == \"string\"]\n",
    "string_"
   ]
  },
  {
   "cell_type": "code",
   "execution_count": 54,
   "id": "fabulous-apparel",
   "metadata": {},
   "outputs": [
    {
     "data": {
      "text/plain": [
       "CREDITSCORE                    0\n",
       "AGE                            0\n",
       "TENURE                         0\n",
       "BALANCE                        0\n",
       "NUMOFPRODUCTS                  0\n",
       "HASCRCARD                      0\n",
       "ISACTIVEMEMBER                 0\n",
       "ESTIMATEDSALARY                0\n",
       "EXITED                         0\n",
       "AGE_ESTIMATED_SALARY           0\n",
       "CREDITSCORE_TENURE             0\n",
       "ESTIMATEDSALARY_CREDITSCORE    0\n",
       "AGE_CAT                        0\n",
       "ESTIMATEDSALARY_CAT            0\n",
       "CREDITSCORE_CAT                0\n",
       "TENURE_CAT                     0\n",
       "GEOGRAPHY_LABEL_ONE            0\n",
       "GENDER_LABEL_ONE               0\n",
       "CUSTOMER_LABEL_ONE             0\n",
       "REWARD_LABEL_ONE               0\n",
       "dtype: int64"
      ]
     },
     "execution_count": 54,
     "metadata": {},
     "output_type": "execute_result"
    }
   ],
   "source": [
    "spark_df.toPandas().isnull().sum()"
   ]
  },
  {
   "cell_type": "code",
   "execution_count": 55,
   "id": "studied-biology",
   "metadata": {},
   "outputs": [
    {
     "data": {
      "text/plain": [
       "['CREDITSCORE',\n",
       " 'AGE',\n",
       " 'TENURE',\n",
       " 'BALANCE',\n",
       " 'NUMOFPRODUCTS',\n",
       " 'HASCRCARD',\n",
       " 'ISACTIVEMEMBER',\n",
       " 'ESTIMATEDSALARY',\n",
       " 'EXITED',\n",
       " 'AGE_ESTIMATED_SALARY',\n",
       " 'CREDITSCORE_TENURE',\n",
       " 'ESTIMATEDSALARY_CREDITSCORE',\n",
       " 'AGE_CAT',\n",
       " 'ESTIMATEDSALARY_CAT',\n",
       " 'CREDITSCORE_CAT',\n",
       " 'TENURE_CAT',\n",
       " 'GEOGRAPHY_LABEL_ONE',\n",
       " 'GENDER_LABEL_ONE',\n",
       " 'CUSTOMER_LABEL_ONE',\n",
       " 'REWARD_LABEL_ONE']"
      ]
     },
     "execution_count": 55,
     "metadata": {},
     "output_type": "execute_result"
    }
   ],
   "source": [
    "spark_df.columns"
   ]
  },
  {
   "cell_type": "code",
   "execution_count": 56,
   "id": "aggressive-deadline",
   "metadata": {},
   "outputs": [
    {
     "name": "stdout",
     "output_type": "stream",
     "text": [
      "+------+------+\n",
      "|TARGET|EXITED|\n",
      "+------+------+\n",
      "|     1|     1|\n",
      "|     0|     0|\n",
      "|     1|     1|\n",
      "|     0|     0|\n",
      "+------+------+\n",
      "only showing top 4 rows\n",
      "\n"
     ]
    }
   ],
   "source": [
    "indexer_exited = StringIndexer(inputCol = \"EXITED\", outputCol = \"TARGET\")\n",
    "spark_df = indexer_exited.fit(spark_df).transform(spark_df)\n",
    "spark_df = spark_df.withColumn(\"TARGET\", spark_df.TARGET.cast(\"integer\"))\n",
    "spark_df.select(\"TARGET\",\"EXITED\").show(4)"
   ]
  },
  {
   "cell_type": "code",
   "execution_count": 57,
   "id": "cathedral-latter",
   "metadata": {},
   "outputs": [
    {
     "data": {
      "text/plain": [
       "['CREDITSCORE',\n",
       " 'AGE',\n",
       " 'TENURE',\n",
       " 'BALANCE',\n",
       " 'NUMOFPRODUCTS',\n",
       " 'HASCRCARD',\n",
       " 'ISACTIVEMEMBER',\n",
       " 'ESTIMATEDSALARY',\n",
       " 'AGE_ESTIMATED_SALARY',\n",
       " 'CREDITSCORE_TENURE',\n",
       " 'ESTIMATEDSALARY_CREDITSCORE',\n",
       " 'AGE_CAT',\n",
       " 'ESTIMATEDSALARY_CAT',\n",
       " 'CREDITSCORE_CAT',\n",
       " 'TENURE_CAT',\n",
       " 'GEOGRAPHY_LABEL_ONE',\n",
       " 'GENDER_LABEL_ONE',\n",
       " 'CUSTOMER_LABEL_ONE',\n",
       " 'REWARD_LABEL_ONE',\n",
       " 'TARGET']"
      ]
     },
     "execution_count": 57,
     "metadata": {},
     "output_type": "execute_result"
    }
   ],
   "source": [
    "spark_df = spark_df.drop(\"EXITED\")\n",
    "spark_df.columns"
   ]
  },
  {
   "cell_type": "code",
   "execution_count": 58,
   "id": "exact-karaoke",
   "metadata": {},
   "outputs": [
    {
     "name": "stdout",
     "output_type": "stream",
     "text": [
      "root\n",
      " |-- CREDITSCORE: integer (nullable = true)\n",
      " |-- AGE: integer (nullable = true)\n",
      " |-- TENURE: integer (nullable = true)\n",
      " |-- BALANCE: double (nullable = true)\n",
      " |-- NUMOFPRODUCTS: integer (nullable = true)\n",
      " |-- HASCRCARD: integer (nullable = true)\n",
      " |-- ISACTIVEMEMBER: integer (nullable = true)\n",
      " |-- ESTIMATEDSALARY: double (nullable = true)\n",
      " |-- AGE_ESTIMATED_SALARY: double (nullable = true)\n",
      " |-- CREDITSCORE_TENURE: integer (nullable = true)\n",
      " |-- ESTIMATEDSALARY_CREDITSCORE: double (nullable = true)\n",
      " |-- AGE_CAT: double (nullable = true)\n",
      " |-- ESTIMATEDSALARY_CAT: double (nullable = true)\n",
      " |-- CREDITSCORE_CAT: double (nullable = true)\n",
      " |-- TENURE_CAT: double (nullable = true)\n",
      " |-- GEOGRAPHY_LABEL_ONE: vector (nullable = true)\n",
      " |-- GENDER_LABEL_ONE: vector (nullable = true)\n",
      " |-- CUSTOMER_LABEL_ONE: vector (nullable = true)\n",
      " |-- REWARD_LABEL_ONE: vector (nullable = true)\n",
      " |-- TARGET: integer (nullable = true)\n",
      "\n"
     ]
    }
   ],
   "source": [
    "spark_df.printSchema()"
   ]
  },
  {
   "cell_type": "code",
   "execution_count": 59,
   "id": "quiet-fortune",
   "metadata": {},
   "outputs": [],
   "source": [
    "## EXTRA OLABİLİR Mİ ????\n",
    "\n",
    "#big_num_cols = [col[0] for col in spark_df.dtypes if (col[1] != [\"string\",\"vector\"]) and (spark_df.select(col[0]).distinct().count() > 10)]\n",
    "#big_num_cols"
   ]
  },
  {
   "cell_type": "code",
   "execution_count": 60,
   "id": "endless-gamma",
   "metadata": {},
   "outputs": [],
   "source": [
    "#import matplotlib.pyplot as plt\n",
    "#import seaborn as sns\n",
    "#%matplotlib inline\n",
    "\n",
    "#for col in big_num_cols:\n",
    "#    plt.figure(figsize = (10,5))\n",
    "#    sns.boxplot(spark_df.toPandas()[col])"
   ]
  },
  {
   "cell_type": "code",
   "execution_count": 61,
   "id": "august-import",
   "metadata": {},
   "outputs": [],
   "source": [
    "def outlier(dataframe, col, q1=.25 , q3=.75):\n",
    "    \n",
    "    quantile1 = dataframe[col].quantile(q1)\n",
    "    quantile3 = dataframe[col].quantile(q3)\n",
    "    interquantile = quantile3 - quantile1\n",
    "    up_limit = quantile3 + 1.5*interquantile\n",
    "    low_limit = quantile1 - 1.5*interquantile\n",
    "    return up_limit,low_limit\n",
    "\n",
    "def replace_outlier(dataframe,col,q1=.25,q3=.75):\n",
    "    \n",
    "    quantile1 = dataframe[col].quantile(q1)\n",
    "    quantile3 = dataframe[col].quantile(q3)\n",
    "    interquantile = quantile3 - quantile1\n",
    "    \n",
    "    up_limit = quantile3 + 1.5*interquantile\n",
    "    low_limit = quantile1 - 1.5*interquantile\n",
    "    \n",
    "    dataframe.loc[(dataframe.col < low_limit), col] = low_limit\n",
    "    dataframe.loc[(dataframe.col > up_limit), col] = up_limit"
   ]
  },
  {
   "cell_type": "code",
   "execution_count": 62,
   "id": "dramatic-career",
   "metadata": {},
   "outputs": [],
   "source": [
    "#for col in big_num_cols:\n",
    "#    print(col, \"--- >\" ,outlier(spark_df.toPandas(), col))"
   ]
  },
  {
   "cell_type": "code",
   "execution_count": 63,
   "id": "bronze-congress",
   "metadata": {},
   "outputs": [],
   "source": [
    "from pyspark.sql.types import IntegerType\n",
    "\n",
    "from pyspark.sql.functions import udf,when,count"
   ]
  },
  {
   "cell_type": "code",
   "execution_count": 64,
   "id": "monetary-bookmark",
   "metadata": {},
   "outputs": [],
   "source": [
    "############################\n",
    "# Feature'ların Tanımlanması\n",
    "############################"
   ]
  },
  {
   "cell_type": "code",
   "execution_count": 65,
   "id": "modular-broadway",
   "metadata": {},
   "outputs": [
    {
     "data": {
      "text/plain": [
       "CREDITSCORE                    0\n",
       "AGE                            0\n",
       "TENURE                         0\n",
       "BALANCE                        0\n",
       "NUMOFPRODUCTS                  0\n",
       "HASCRCARD                      0\n",
       "ISACTIVEMEMBER                 0\n",
       "ESTIMATEDSALARY                0\n",
       "AGE_ESTIMATED_SALARY           0\n",
       "CREDITSCORE_TENURE             0\n",
       "ESTIMATEDSALARY_CREDITSCORE    0\n",
       "AGE_CAT                        0\n",
       "ESTIMATEDSALARY_CAT            0\n",
       "CREDITSCORE_CAT                0\n",
       "TENURE_CAT                     0\n",
       "GEOGRAPHY_LABEL_ONE            0\n",
       "GENDER_LABEL_ONE               0\n",
       "CUSTOMER_LABEL_ONE             0\n",
       "REWARD_LABEL_ONE               0\n",
       "TARGET                         0\n",
       "dtype: int64"
      ]
     },
     "execution_count": 65,
     "metadata": {},
     "output_type": "execute_result"
    }
   ],
   "source": [
    "spark_df.toPandas().isnull().sum()"
   ]
  },
  {
   "cell_type": "code",
   "execution_count": 66,
   "id": "noticed-leather",
   "metadata": {},
   "outputs": [
    {
     "name": "stdout",
     "output_type": "stream",
     "text": [
      "root\n",
      " |-- CREDITSCORE: integer (nullable = true)\n",
      " |-- AGE: integer (nullable = true)\n",
      " |-- TENURE: integer (nullable = true)\n",
      " |-- BALANCE: double (nullable = true)\n",
      " |-- NUMOFPRODUCTS: integer (nullable = true)\n",
      " |-- HASCRCARD: integer (nullable = true)\n",
      " |-- ISACTIVEMEMBER: integer (nullable = true)\n",
      " |-- ESTIMATEDSALARY: double (nullable = true)\n",
      " |-- AGE_ESTIMATED_SALARY: double (nullable = true)\n",
      " |-- CREDITSCORE_TENURE: integer (nullable = true)\n",
      " |-- ESTIMATEDSALARY_CREDITSCORE: double (nullable = true)\n",
      " |-- AGE_CAT: double (nullable = true)\n",
      " |-- ESTIMATEDSALARY_CAT: double (nullable = true)\n",
      " |-- CREDITSCORE_CAT: double (nullable = true)\n",
      " |-- TENURE_CAT: double (nullable = true)\n",
      " |-- GEOGRAPHY_LABEL_ONE: vector (nullable = true)\n",
      " |-- GENDER_LABEL_ONE: vector (nullable = true)\n",
      " |-- CUSTOMER_LABEL_ONE: vector (nullable = true)\n",
      " |-- REWARD_LABEL_ONE: vector (nullable = true)\n",
      " |-- TARGET: integer (nullable = true)\n",
      "\n"
     ]
    }
   ],
   "source": [
    "spark_df.printSchema()"
   ]
  },
  {
   "cell_type": "code",
   "execution_count": 67,
   "id": "classified-tracker",
   "metadata": {},
   "outputs": [
    {
     "data": {
      "text/plain": [
       "['CREDITSCORE',\n",
       " 'AGE',\n",
       " 'TENURE',\n",
       " 'BALANCE',\n",
       " 'NUMOFPRODUCTS',\n",
       " 'HASCRCARD',\n",
       " 'ISACTIVEMEMBER',\n",
       " 'ESTIMATEDSALARY',\n",
       " 'AGE_ESTIMATED_SALARY',\n",
       " 'CREDITSCORE_TENURE',\n",
       " 'ESTIMATEDSALARY_CREDITSCORE',\n",
       " 'AGE_CAT',\n",
       " 'ESTIMATEDSALARY_CAT',\n",
       " 'CREDITSCORE_CAT',\n",
       " 'TENURE_CAT',\n",
       " 'GEOGRAPHY_LABEL_ONE',\n",
       " 'GENDER_LABEL_ONE',\n",
       " 'CUSTOMER_LABEL_ONE',\n",
       " 'REWARD_LABEL_ONE']"
      ]
     },
     "execution_count": 67,
     "metadata": {},
     "output_type": "execute_result"
    }
   ],
   "source": [
    "from pyspark.ml.feature import VectorAssembler\n",
    "\n",
    "features = [col for col in spark_df.columns if col != \"TARGET\"]\n",
    "features\n"
   ]
  },
  {
   "cell_type": "code",
   "execution_count": 68,
   "id": "reported-berkeley",
   "metadata": {},
   "outputs": [],
   "source": [
    "va = VectorAssembler(inputCols = features , outputCol = \"FEATURES\")\n",
    "va_df = va.transform(spark_df)"
   ]
  },
  {
   "cell_type": "code",
   "execution_count": 69,
   "id": "hispanic-shepherd",
   "metadata": {},
   "outputs": [
    {
     "name": "stdout",
     "output_type": "stream",
     "text": [
      "-RECORD 0-----------------------------------------------------------------------------------------------------------------------------------------------------------------------\n",
      " CREDITSCORE                 | 619                                                                                                                                              \n",
      " AGE                         | 42                                                                                                                                               \n",
      " TENURE                      | 2                                                                                                                                                \n",
      " BALANCE                     | 0.0                                                                                                                                              \n",
      " NUMOFPRODUCTS               | 1                                                                                                                                                \n",
      " HASCRCARD                   | 1                                                                                                                                                \n",
      " ISACTIVEMEMBER              | 1                                                                                                                                                \n",
      " ESTIMATEDSALARY             | 101348.88                                                                                                                                        \n",
      " AGE_ESTIMATED_SALARY        | 4.144101049759997E-4                                                                                                                             \n",
      " CREDITSCORE_TENURE          | 1238                                                                                                                                             \n",
      " ESTIMATEDSALARY_CREDITSCORE | 163.73001615508886                                                                                                                               \n",
      " AGE_CAT                     | 2.0                                                                                                                                              \n",
      " ESTIMATEDSALARY_CAT         | 3.0                                                                                                                                              \n",
      " CREDITSCORE_CAT             | 3.0                                                                                                                                              \n",
      " TENURE_CAT                  | 1.0                                                                                                                                              \n",
      " GEOGRAPHY_LABEL_ONE         | (2,[0],[1.0])                                                                                                                                    \n",
      " GENDER_LABEL_ONE            | (1,[],[])                                                                                                                                        \n",
      " CUSTOMER_LABEL_ONE          | (3,[0],[1.0])                                                                                                                                    \n",
      " REWARD_LABEL_ONE            | (2,[0],[1.0])                                                                                                                                    \n",
      " TARGET                      | 1                                                                                                                                                \n",
      " FEATURES                    | [619.0,42.0,2.0,0.0,1.0,1.0,1.0,101348.88,4.144101049759997E-4,1238.0,163.73001615508886,2.0,3.0,3.0,1.0,1.0,0.0,0.0,1.0,0.0,0.0,1.0,0.0]        \n",
      "-RECORD 1-----------------------------------------------------------------------------------------------------------------------------------------------------------------------\n",
      " CREDITSCORE                 | 608                                                                                                                                              \n",
      " AGE                         | 41                                                                                                                                               \n",
      " TENURE                      | 1                                                                                                                                                \n",
      " BALANCE                     | 83807.86                                                                                                                                         \n",
      " NUMOFPRODUCTS               | 1                                                                                                                                                \n",
      " HASCRCARD                   | 0                                                                                                                                                \n",
      " ISACTIVEMEMBER              | 1                                                                                                                                                \n",
      " ESTIMATEDSALARY             | 112542.58                                                                                                                                        \n",
      " AGE_ESTIMATED_SALARY        | 3.64306558459918E-4                                                                                                                              \n",
      " CREDITSCORE_TENURE          | 608                                                                                                                                              \n",
      " ESTIMATEDSALARY_CREDITSCORE | 185.10292763157895                                                                                                                               \n",
      " AGE_CAT                     | 2.0                                                                                                                                              \n",
      " ESTIMATEDSALARY_CAT         | 3.0                                                                                                                                              \n",
      " CREDITSCORE_CAT             | 3.0                                                                                                                                              \n",
      " TENURE_CAT                  | 1.0                                                                                                                                              \n",
      " GEOGRAPHY_LABEL_ONE         | (2,[],[])                                                                                                                                        \n",
      " GENDER_LABEL_ONE            | (1,[],[])                                                                                                                                        \n",
      " CUSTOMER_LABEL_ONE          | (3,[2],[1.0])                                                                                                                                    \n",
      " REWARD_LABEL_ONE            | (2,[0],[1.0])                                                                                                                                    \n",
      " TARGET                      | 0                                                                                                                                                \n",
      " FEATURES                    | [608.0,41.0,1.0,83807.86,1.0,0.0,1.0,112542.58,3.64306558459918E-4,608.0,185.10292763157895,2.0,3.0,3.0,1.0,0.0,0.0,0.0,0.0,0.0,1.0,1.0,0.0]     \n",
      "-RECORD 2-----------------------------------------------------------------------------------------------------------------------------------------------------------------------\n",
      " CREDITSCORE                 | 502                                                                                                                                              \n",
      " AGE                         | 42                                                                                                                                               \n",
      " TENURE                      | 8                                                                                                                                                \n",
      " BALANCE                     | 159660.8                                                                                                                                         \n",
      " NUMOFPRODUCTS               | 3                                                                                                                                                \n",
      " HASCRCARD                   | 1                                                                                                                                                \n",
      " ISACTIVEMEMBER              | 0                                                                                                                                                \n",
      " ESTIMATEDSALARY             | 113931.57                                                                                                                                        \n",
      " AGE_ESTIMATED_SALARY        | 3.68642335043746E-4                                                                                                                              \n",
      " CREDITSCORE_TENURE          | 4016                                                                                                                                             \n",
      " ESTIMATEDSALARY_CREDITSCORE | 226.9553187250996                                                                                                                                \n",
      " AGE_CAT                     | 2.0                                                                                                                                              \n",
      " ESTIMATEDSALARY_CAT         | 3.0                                                                                                                                              \n",
      " CREDITSCORE_CAT             | 2.0                                                                                                                                              \n",
      " TENURE_CAT                  | 4.0                                                                                                                                              \n",
      " GEOGRAPHY_LABEL_ONE         | (2,[0],[1.0])                                                                                                                                    \n",
      " GENDER_LABEL_ONE            | (1,[],[])                                                                                                                                        \n",
      " CUSTOMER_LABEL_ONE          | (3,[1],[1.0])                                                                                                                                    \n",
      " REWARD_LABEL_ONE            | (2,[],[])                                                                                                                                        \n",
      " TARGET                      | 1                                                                                                                                                \n",
      " FEATURES                    | [502.0,42.0,8.0,159660.8,3.0,1.0,0.0,113931.57,3.68642335043746E-4,4016.0,226.9553187250996,2.0,3.0,2.0,4.0,1.0,0.0,0.0,0.0,1.0,0.0,0.0,0.0]     \n",
      "-RECORD 3-----------------------------------------------------------------------------------------------------------------------------------------------------------------------\n",
      " CREDITSCORE                 | 699                                                                                                                                              \n",
      " AGE                         | 39                                                                                                                                               \n",
      " TENURE                      | 1                                                                                                                                                \n",
      " BALANCE                     | 0.0                                                                                                                                              \n",
      " NUMOFPRODUCTS               | 2                                                                                                                                                \n",
      " HASCRCARD                   | 0                                                                                                                                                \n",
      " ISACTIVEMEMBER              | 0                                                                                                                                                \n",
      " ESTIMATEDSALARY             | 93826.63                                                                                                                                         \n",
      " AGE_ESTIMATED_SALARY        | 4.1566024485798967E-4                                                                                                                            \n",
      " CREDITSCORE_TENURE          | 699                                                                                                                                              \n",
      " ESTIMATEDSALARY_CREDITSCORE | 134.229799713877                                                                                                                                 \n",
      " AGE_CAT                     | 2.0                                                                                                                                              \n",
      " ESTIMATEDSALARY_CAT         | 2.0                                                                                                                                              \n",
      " CREDITSCORE_CAT             | 3.0                                                                                                                                              \n",
      " TENURE_CAT                  | 1.0                                                                                                                                              \n",
      " GEOGRAPHY_LABEL_ONE         | (2,[0],[1.0])                                                                                                                                    \n",
      " GENDER_LABEL_ONE            | (1,[],[])                                                                                                                                        \n",
      " CUSTOMER_LABEL_ONE          | (3,[],[])                                                                                                                                        \n",
      " REWARD_LABEL_ONE            | (2,[0],[1.0])                                                                                                                                    \n",
      " TARGET                      | 0                                                                                                                                                \n",
      " FEATURES                    | (23,[0,1,2,4,7,8,9,10,11,12,13,14,15,21],[699.0,39.0,1.0,2.0,93826.63,4.1566024485798967E-4,699.0,134.229799713877,2.0,2.0,3.0,1.0,1.0,1.0])     \n",
      "-RECORD 4-----------------------------------------------------------------------------------------------------------------------------------------------------------------------\n",
      " CREDITSCORE                 | 850                                                                                                                                              \n",
      " AGE                         | 43                                                                                                                                               \n",
      " TENURE                      | 2                                                                                                                                                \n",
      " BALANCE                     | 125510.82                                                                                                                                        \n",
      " NUMOFPRODUCTS               | 1                                                                                                                                                \n",
      " HASCRCARD                   | 1                                                                                                                                                \n",
      " ISACTIVEMEMBER              | 1                                                                                                                                                \n",
      " ESTIMATEDSALARY             | 79084.1                                                                                                                                          \n",
      " AGE_ESTIMATED_SALARY        | 5.437249712647675E-4                                                                                                                             \n",
      " CREDITSCORE_TENURE          | 1700                                                                                                                                             \n",
      " ESTIMATEDSALARY_CREDITSCORE | 93.04011764705884                                                                                                                                \n",
      " AGE_CAT                     | 2.0                                                                                                                                              \n",
      " ESTIMATEDSALARY_CAT         | 2.0                                                                                                                                              \n",
      " CREDITSCORE_CAT             | 4.0                                                                                                                                              \n",
      " TENURE_CAT                  | 1.0                                                                                                                                              \n",
      " GEOGRAPHY_LABEL_ONE         | (2,[],[])                                                                                                                                        \n",
      " GENDER_LABEL_ONE            | (1,[],[])                                                                                                                                        \n",
      " CUSTOMER_LABEL_ONE          | (3,[0],[1.0])                                                                                                                                    \n",
      " REWARD_LABEL_ONE            | (2,[0],[1.0])                                                                                                                                    \n",
      " TARGET                      | 0                                                                                                                                                \n",
      " FEATURES                    | [850.0,43.0,2.0,125510.82,1.0,1.0,1.0,79084.1,5.437249712647675E-4,1700.0,93.04011764705884,2.0,2.0,4.0,1.0,0.0,0.0,0.0,1.0,0.0,0.0,1.0,0.0]     \n",
      "-RECORD 5-----------------------------------------------------------------------------------------------------------------------------------------------------------------------\n",
      " CREDITSCORE                 | 645                                                                                                                                              \n",
      " AGE                         | 44                                                                                                                                               \n",
      " TENURE                      | 8                                                                                                                                                \n",
      " BALANCE                     | 113755.78                                                                                                                                        \n",
      " NUMOFPRODUCTS               | 2                                                                                                                                                \n",
      " HASCRCARD                   | 1                                                                                                                                                \n",
      " ISACTIVEMEMBER              | 0                                                                                                                                                \n",
      " ESTIMATEDSALARY             | 149756.71                                                                                                                                        \n",
      " AGE_ESTIMATED_SALARY        | 2.9380987336059935E-4                                                                                                                            \n",
      " CREDITSCORE_TENURE          | 5160                                                                                                                                             \n",
      " ESTIMATEDSALARY_CREDITSCORE | 232.1809457364341                                                                                                                                \n",
      " AGE_CAT                     | 2.0                                                                                                                                              \n",
      " ESTIMATEDSALARY_CAT         | 3.0                                                                                                                                              \n",
      " CREDITSCORE_CAT             | 3.0                                                                                                                                              \n",
      " TENURE_CAT                  | 4.0                                                                                                                                              \n",
      " GEOGRAPHY_LABEL_ONE         | (2,[],[])                                                                                                                                        \n",
      " GENDER_LABEL_ONE            | (1,[0],[1.0])                                                                                                                                    \n",
      " CUSTOMER_LABEL_ONE          | (3,[1],[1.0])                                                                                                                                    \n",
      " REWARD_LABEL_ONE            | (2,[0],[1.0])                                                                                                                                    \n",
      " TARGET                      | 1                                                                                                                                                \n",
      " FEATURES                    | [645.0,44.0,8.0,113755.78,2.0,1.0,0.0,149756.71,2.9380987336059935E-4,5160.0,232.1809457364341,2.0,3.0,3.0,4.0,0.0,0.0,1.0,0.0,1.0,0.0,1.0,0.0]  \n",
      "-RECORD 6-----------------------------------------------------------------------------------------------------------------------------------------------------------------------\n",
      " CREDITSCORE                 | 822                                                                                                                                              \n",
      " AGE                         | 50                                                                                                                                               \n",
      " TENURE                      | 7                                                                                                                                                \n",
      " BALANCE                     | 0.0                                                                                                                                              \n",
      " NUMOFPRODUCTS               | 2                                                                                                                                                \n",
      " HASCRCARD                   | 1                                                                                                                                                \n",
      " ISACTIVEMEMBER              | 1                                                                                                                                                \n",
      " ESTIMATEDSALARY             | 10062.8                                                                                                                                          \n",
      " AGE_ESTIMATED_SALARY        | 0.004968795961362643                                                                                                                             \n",
      " CREDITSCORE_TENURE          | 5754                                                                                                                                             \n",
      " ESTIMATEDSALARY_CREDITSCORE | 12.24184914841849                                                                                                                                \n",
      " AGE_CAT                     | 2.0                                                                                                                                              \n",
      " ESTIMATEDSALARY_CAT         | 1.0                                                                                                                                              \n",
      " CREDITSCORE_CAT             | 4.0                                                                                                                                              \n",
      " TENURE_CAT                  | 3.0                                                                                                                                              \n",
      " GEOGRAPHY_LABEL_ONE         | (2,[0],[1.0])                                                                                                                                    \n",
      " GENDER_LABEL_ONE            | (1,[0],[1.0])                                                                                                                                    \n",
      " CUSTOMER_LABEL_ONE          | (3,[0],[1.0])                                                                                                                                    \n",
      " REWARD_LABEL_ONE            | (2,[0],[1.0])                                                                                                                                    \n",
      " TARGET                      | 0                                                                                                                                                \n",
      " FEATURES                    | [822.0,50.0,7.0,0.0,2.0,1.0,1.0,10062.8,0.004968795961362643,5754.0,12.24184914841849,2.0,1.0,4.0,3.0,1.0,0.0,1.0,1.0,0.0,0.0,1.0,0.0]           \n",
      "-RECORD 7-----------------------------------------------------------------------------------------------------------------------------------------------------------------------\n",
      " CREDITSCORE                 | 376                                                                                                                                              \n",
      " AGE                         | 29                                                                                                                                               \n",
      " TENURE                      | 4                                                                                                                                                \n",
      " BALANCE                     | 115046.74                                                                                                                                        \n",
      " NUMOFPRODUCTS               | 4                                                                                                                                                \n",
      " HASCRCARD                   | 1                                                                                                                                                \n",
      " ISACTIVEMEMBER              | 0                                                                                                                                                \n",
      " ESTIMATEDSALARY             | 119346.88                                                                                                                                        \n",
      " AGE_ESTIMATED_SALARY        | 2.4298917575390323E-4                                                                                                                            \n",
      " CREDITSCORE_TENURE          | 1504                                                                                                                                             \n",
      " ESTIMATEDSALARY_CREDITSCORE | 317.41191489361705                                                                                                                               \n",
      " AGE_CAT                     | 1.0                                                                                                                                              \n",
      " ESTIMATEDSALARY_CAT         | 3.0                                                                                                                                              \n",
      " CREDITSCORE_CAT             | 1.0                                                                                                                                              \n",
      " TENURE_CAT                  | 2.0                                                                                                                                              \n",
      " GEOGRAPHY_LABEL_ONE         | (2,[1],[1.0])                                                                                                                                    \n",
      " GENDER_LABEL_ONE            | (1,[],[])                                                                                                                                        \n",
      " CUSTOMER_LABEL_ONE          | (3,[1],[1.0])                                                                                                                                    \n",
      " REWARD_LABEL_ONE            | (2,[0],[1.0])                                                                                                                                    \n",
      " TARGET                      | 1                                                                                                                                                \n",
      " FEATURES                    | [376.0,29.0,4.0,115046.74,4.0,1.0,0.0,119346.88,2.4298917575390323E-4,1504.0,317.41191489361705,1.0,3.0,1.0,2.0,0.0,1.0,0.0,0.0,1.0,0.0,1.0,0.0] \n",
      "-RECORD 8-----------------------------------------------------------------------------------------------------------------------------------------------------------------------\n",
      " CREDITSCORE                 | 501                                                                                                                                              \n",
      " AGE                         | 44                                                                                                                                               \n",
      " TENURE                      | 4                                                                                                                                                \n",
      " BALANCE                     | 142051.07                                                                                                                                        \n",
      " NUMOFPRODUCTS               | 2                                                                                                                                                \n",
      " HASCRCARD                   | 0                                                                                                                                                \n",
      " ISACTIVEMEMBER              | 1                                                                                                                                                \n",
      " ESTIMATEDSALARY             | 74940.5                                                                                                                                          \n",
      " AGE_ESTIMATED_SALARY        | 5.871324584170108E-4                                                                                                                             \n",
      " CREDITSCORE_TENURE          | 2004                                                                                                                                             \n",
      " ESTIMATEDSALARY_CREDITSCORE | 149.58183632734531                                                                                                                               \n",
      " AGE_CAT                     | 2.0                                                                                                                                              \n",
      " ESTIMATEDSALARY_CAT         | 2.0                                                                                                                                              \n",
      " CREDITSCORE_CAT             | 2.0                                                                                                                                              \n",
      " TENURE_CAT                  | 2.0                                                                                                                                              \n",
      " GEOGRAPHY_LABEL_ONE         | (2,[0],[1.0])                                                                                                                                    \n",
      " GENDER_LABEL_ONE            | (1,[0],[1.0])                                                                                                                                    \n",
      " CUSTOMER_LABEL_ONE          | (3,[2],[1.0])                                                                                                                                    \n",
      " REWARD_LABEL_ONE            | (2,[1],[1.0])                                                                                                                                    \n",
      " TARGET                      | 0                                                                                                                                                \n",
      " FEATURES                    | [501.0,44.0,4.0,142051.07,2.0,0.0,1.0,74940.5,5.871324584170108E-4,2004.0,149.58183632734531,2.0,2.0,2.0,2.0,1.0,0.0,1.0,0.0,0.0,1.0,0.0,1.0]    \n",
      "-RECORD 9-----------------------------------------------------------------------------------------------------------------------------------------------------------------------\n",
      " CREDITSCORE                 | 684                                                                                                                                              \n",
      " AGE                         | 27                                                                                                                                               \n",
      " TENURE                      | 2                                                                                                                                                \n",
      " BALANCE                     | 134603.88                                                                                                                                        \n",
      " NUMOFPRODUCTS               | 1                                                                                                                                                \n",
      " HASCRCARD                   | 1                                                                                                                                                \n",
      " ISACTIVEMEMBER              | 1                                                                                                                                                \n",
      " ESTIMATEDSALARY             | 71725.73                                                                                                                                         \n",
      " AGE_ESTIMATED_SALARY        | 3.764339519444417E-4                                                                                                                             \n",
      " CREDITSCORE_TENURE          | 1368                                                                                                                                             \n",
      " ESTIMATEDSALARY_CREDITSCORE | 104.86217836257309                                                                                                                               \n",
      " AGE_CAT                     | 1.0                                                                                                                                              \n",
      " ESTIMATEDSALARY_CAT         | 2.0                                                                                                                                              \n",
      " CREDITSCORE_CAT             | 3.0                                                                                                                                              \n",
      " TENURE_CAT                  | 1.0                                                                                                                                              \n",
      " GEOGRAPHY_LABEL_ONE         | (2,[0],[1.0])                                                                                                                                    \n",
      " GENDER_LABEL_ONE            | (1,[0],[1.0])                                                                                                                                    \n",
      " CUSTOMER_LABEL_ONE          | (3,[0],[1.0])                                                                                                                                    \n",
      " REWARD_LABEL_ONE            | (2,[0],[1.0])                                                                                                                                    \n",
      " TARGET                      | 0                                                                                                                                                \n",
      " FEATURES                    | [684.0,27.0,2.0,134603.88,1.0,1.0,1.0,71725.73,3.764339519444417E-4,1368.0,104.86217836257309,1.0,2.0,3.0,1.0,1.0,0.0,1.0,1.0,0.0,0.0,1.0,0.0]   \n",
      "only showing top 10 rows\n",
      "\n"
     ]
    }
   ],
   "source": [
    "va_df.show(10,False,True)"
   ]
  },
  {
   "cell_type": "code",
   "execution_count": 70,
   "id": "necessary-namibia",
   "metadata": {},
   "outputs": [
    {
     "name": "stdout",
     "output_type": "stream",
     "text": [
      "+--------------------+------+\n",
      "|            FEATURES|TARGET|\n",
      "+--------------------+------+\n",
      "|[619.0,42.0,2.0,0...|     1|\n",
      "|[608.0,41.0,1.0,8...|     0|\n",
      "|[502.0,42.0,8.0,1...|     1|\n",
      "|(23,[0,1,2,4,7,8,...|     0|\n",
      "|[850.0,43.0,2.0,1...|     0|\n",
      "+--------------------+------+\n",
      "only showing top 5 rows\n",
      "\n"
     ]
    }
   ],
   "source": [
    "final_df = va_df.select(\"FEATURES\",\"TARGET\")\n",
    "final_df.show(5)"
   ]
  },
  {
   "cell_type": "code",
   "execution_count": 71,
   "id": "disciplinary-habitat",
   "metadata": {},
   "outputs": [
    {
     "name": "stdout",
     "output_type": "stream",
     "text": [
      "+--------------------+------+--------------------+\n",
      "|            FEATURES|TARGET|      SCALEDFEATURES|\n",
      "+--------------------+------+--------------------+\n",
      "|[619.0,42.0,2.0,0...|     1|[6.40433392438999...|\n",
      "|[608.0,41.0,1.0,8...|     0|[6.29052508243798...|\n",
      "|[502.0,42.0,8.0,1...|     1|[5.19382169635505...|\n",
      "|(23,[0,1,2,4,7,8,...|     0|(23,[0,1,2,4,7,8,...|\n",
      "|[850.0,43.0,2.0,1...|     0|[8.79431960538205...|\n",
      "+--------------------+------+--------------------+\n",
      "only showing top 5 rows\n",
      "\n"
     ]
    }
   ],
   "source": [
    "from pyspark.ml.feature import StandardScaler\n",
    "\n",
    "scaler = StandardScaler(inputCol=\"FEATURES\", outputCol=\"SCALEDFEATURES\")\n",
    "final_df = scaler.fit(final_df).transform(final_df)\n",
    "final_df.show(5)"
   ]
  },
  {
   "cell_type": "code",
   "execution_count": 72,
   "id": "atomic-scene",
   "metadata": {},
   "outputs": [
    {
     "name": "stdout",
     "output_type": "stream",
     "text": [
      "Train Normal Shape : (6949, 2) \n",
      "Test Normal Shape : (3051, 2) \n",
      "-------\n",
      "Train Scaled Shape : (6949, 2) \n",
      "Test Scaled Shape : (3051, 2) \n"
     ]
    }
   ],
   "source": [
    "# Split The DataSet Into Test and Train Sets:\n",
    "\n",
    "final_df_normal = final_df.select(\"FEATURES\",\"TARGET\")\n",
    "final_df_scaled = final_df.select(\"SCALEDFEATURES\",\"TARGET\")\n",
    "\n",
    "train_df_normal ,test_df_normal = final_df_normal.randomSplit([0.7,0.3], seed = 17)\n",
    "train_df_scaled, test_df_scaled = final_df_scaled.randomSplit([0.7,0.3], seed = 17)\n",
    "\n",
    "print(f\"Train Normal Shape : {train_df_normal.count(), len(train_df_normal.columns)} \")\n",
    "print(f\"Test Normal Shape : {test_df_normal.count(), len(test_df_normal.columns)} \")\n",
    "\n",
    "print(\"-------\")\n",
    "\n",
    "print(f\"Train Scaled Shape : {train_df_scaled.count(), len(train_df_scaled.columns)} \")\n",
    "print(f\"Test Scaled Shape : {test_df_scaled.count(), len(test_df_scaled.columns)} \")"
   ]
  },
  {
   "cell_type": "code",
   "execution_count": 73,
   "id": "rapid-courage",
   "metadata": {},
   "outputs": [],
   "source": [
    "##################################################\n",
    "# Modeling\n",
    "##################################################"
   ]
  },
  {
   "cell_type": "code",
   "execution_count": 74,
   "id": "interpreted-examination",
   "metadata": {},
   "outputs": [],
   "source": [
    "############################\n",
    "# Logistic Regression\n",
    "############################"
   ]
  },
  {
   "cell_type": "code",
   "execution_count": 75,
   "id": "specific-dining",
   "metadata": {},
   "outputs": [],
   "source": [
    "from pyspark.ml.classification import LogisticRegression,GBTClassifier"
   ]
  },
  {
   "cell_type": "code",
   "execution_count": 76,
   "id": "radical-garden",
   "metadata": {},
   "outputs": [
    {
     "name": "stdout",
     "output_type": "stream",
     "text": [
      "+--------------------+------+--------------------+--------------------+----------+\n",
      "|            FEATURES|TARGET|       rawPrediction|         probability|prediction|\n",
      "+--------------------+------+--------------------+--------------------+----------+\n",
      "|(23,[0,1,2,3,4,7,...|     1|[-2.9812879067835...|[0.04827841803909...|       1.0|\n",
      "|(23,[0,1,2,3,4,7,...|     1|[-2.8463369682129...|[0.05487097314166...|       1.0|\n",
      "|(23,[0,1,2,3,4,7,...|     0|[1.33914936651111...|[0.79235002027012...|       0.0|\n",
      "|(23,[0,1,2,3,4,7,...|     1|[-0.3559892273450...|[0.41193080645007...|       1.0|\n",
      "|(23,[0,1,2,3,4,7,...|     0|[0.62421907097707...|[0.65117750120791...|       0.0|\n",
      "+--------------------+------+--------------------+--------------------+----------+\n",
      "only showing top 5 rows\n",
      "\n"
     ]
    }
   ],
   "source": [
    "log_model_normal = LogisticRegression(featuresCol=\"FEATURES\",labelCol=\"TARGET\").fit(train_df_normal)\n",
    "y_pred_normal = log_model_normal.transform(test_df_normal)\n",
    "y_pred_normal.show(5)"
   ]
  },
  {
   "cell_type": "code",
   "execution_count": 77,
   "id": "broad-nowhere",
   "metadata": {},
   "outputs": [
    {
     "name": "stdout",
     "output_type": "stream",
     "text": [
      "+--------------------+------+--------------------+--------------------+----------+\n",
      "|      SCALEDFEATURES|TARGET|       rawPrediction|         probability|prediction|\n",
      "+--------------------+------+--------------------+--------------------+----------+\n",
      "|(23,[0,1,2,3,4,7,...|     1|[-2.9811823504762...|[0.04828326833065...|       1.0|\n",
      "|(23,[0,1,2,3,4,7,...|     1|[-2.8462866294996...|[0.05487358377336...|       1.0|\n",
      "|(23,[0,1,2,3,4,7,...|     0|[1.33936700173659...|[0.79238582583445...|       0.0|\n",
      "|(23,[0,1,2,3,4,7,...|     1|[-0.3560683157404...|[0.41191164790873...|       1.0|\n",
      "|(23,[0,1,2,3,4,7,...|     0|[0.62428912886887...|[0.65119341436464...|       0.0|\n",
      "+--------------------+------+--------------------+--------------------+----------+\n",
      "only showing top 5 rows\n",
      "\n"
     ]
    }
   ],
   "source": [
    "log_model_scaled = LogisticRegression(featuresCol=\"SCALEDFEATURES\",labelCol=\"TARGET\").fit(train_df_scaled)\n",
    "y_pred_scaled = log_model_scaled.transform(test_df_scaled)\n",
    "y_pred_scaled.show(5)"
   ]
  },
  {
   "cell_type": "code",
   "execution_count": 78,
   "id": "signed-customs",
   "metadata": {},
   "outputs": [
    {
     "name": "stdout",
     "output_type": "stream",
     "text": [
      "+------+----------+\n",
      "|TARGET|prediction|\n",
      "+------+----------+\n",
      "|     1|       1.0|\n",
      "|     1|       1.0|\n",
      "|     0|       0.0|\n",
      "|     1|       1.0|\n",
      "|     0|       0.0|\n",
      "+------+----------+\n",
      "only showing top 5 rows\n",
      "\n"
     ]
    }
   ],
   "source": [
    "y_pred_normal.select(\"TARGET\",\"prediction\").show(5)"
   ]
  },
  {
   "cell_type": "code",
   "execution_count": 79,
   "id": "assigned-elevation",
   "metadata": {},
   "outputs": [
    {
     "name": "stdout",
     "output_type": "stream",
     "text": [
      "+------+----------+\n",
      "|TARGET|prediction|\n",
      "+------+----------+\n",
      "|     1|       1.0|\n",
      "|     1|       1.0|\n",
      "|     0|       0.0|\n",
      "|     1|       1.0|\n",
      "|     0|       0.0|\n",
      "+------+----------+\n",
      "only showing top 5 rows\n",
      "\n"
     ]
    }
   ],
   "source": [
    "y_pred_scaled.select(\"TARGET\",\"prediction\").show(5)"
   ]
  },
  {
   "cell_type": "code",
   "execution_count": 80,
   "id": "defensive-singles",
   "metadata": {},
   "outputs": [
    {
     "data": {
      "text/plain": [
       "0.8200589970501475"
      ]
     },
     "execution_count": 80,
     "metadata": {},
     "output_type": "execute_result"
    }
   ],
   "source": [
    "# Accuracy Normal\n",
    "y_pred_normal.filter(y_pred_normal.TARGET == y_pred_normal.prediction).count() / y_pred_normal.count()"
   ]
  },
  {
   "cell_type": "code",
   "execution_count": 81,
   "id": "aquatic-projector",
   "metadata": {},
   "outputs": [
    {
     "data": {
      "text/plain": [
       "0.8200589970501475"
      ]
     },
     "execution_count": 81,
     "metadata": {},
     "output_type": "execute_result"
    }
   ],
   "source": [
    "# Accuracy Scaled\n",
    "y_pred_scaled.filter(y_pred_scaled.TARGET == y_pred_scaled.prediction).count() / y_pred_scaled.count()"
   ]
  },
  {
   "cell_type": "code",
   "execution_count": 82,
   "id": "sophisticated-characteristic",
   "metadata": {},
   "outputs": [],
   "source": [
    "from pyspark.ml.evaluation import BinaryClassificationEvaluator,MulticlassClassificationEvaluator"
   ]
  },
  {
   "cell_type": "code",
   "execution_count": 83,
   "id": "usual-parker",
   "metadata": {},
   "outputs": [
    {
     "data": {
      "text/plain": [
       "Param(parent='BinaryClassificationEvaluator_894f425b9663', name='metricName', doc='metric name in evaluation (areaUnderROC|areaUnderPR)')"
      ]
     },
     "execution_count": 83,
     "metadata": {},
     "output_type": "execute_result"
    }
   ],
   "source": [
    "# İçeriklerine baktım !!!\n",
    "\n",
    "BinaryClassificationEvaluator().metricName"
   ]
  },
  {
   "cell_type": "code",
   "execution_count": 84,
   "id": "marine-standing",
   "metadata": {},
   "outputs": [
    {
     "data": {
      "text/plain": [
       "Param(parent='MulticlassClassificationEvaluator_30ec7b9d2bc1', name='metricName', doc='metric name in evaluation (f1|accuracy|weightedPrecision|weightedRecall|weightedTruePositiveRate| weightedFalsePositiveRate|weightedFMeasure|truePositiveRateByLabel| falsePositiveRateByLabel|precisionByLabel|recallByLabel|fMeasureByLabel| logLoss|hammingLoss)')"
      ]
     },
     "execution_count": 84,
     "metadata": {},
     "output_type": "execute_result"
    }
   ],
   "source": [
    "MulticlassClassificationEvaluator().metricName"
   ]
  },
  {
   "cell_type": "code",
   "execution_count": 85,
   "id": "aboriginal-construction",
   "metadata": {},
   "outputs": [],
   "source": [
    "evaluator = BinaryClassificationEvaluator(labelCol=\"TARGET\", rawPredictionCol=\"prediction\",\n",
    "                                          metricName=\"areaUnderROC\")\n",
    "\n",
    "evaluatorMulti = MulticlassClassificationEvaluator(labelCol=\"TARGET\",predictionCol=\"prediction\")"
   ]
  },
  {
   "cell_type": "code",
   "execution_count": 86,
   "id": "special-universal",
   "metadata": {},
   "outputs": [],
   "source": [
    "acc = evaluatorMulti.evaluate(y_pred_scaled, {evaluatorMulti.metricName : \"accuracy\"})\n",
    "precision = evaluatorMulti.evaluate(y_pred_scaled, {evaluatorMulti.metricName : \"precisionByLabel\"})\n",
    "recall = evaluatorMulti.evaluate(y_pred_scaled, {evaluatorMulti.metricName : \"recallByLabel\"})\n",
    "f1 = evaluatorMulti.evaluate(y_pred_scaled, {evaluatorMulti.metricName : \"f1\"})\n",
    "\n",
    "roc_auc = evaluator.evaluate(y_pred_scaled)"
   ]
  },
  {
   "cell_type": "code",
   "execution_count": 87,
   "id": "needed-being",
   "metadata": {},
   "outputs": [
    {
     "name": "stdout",
     "output_type": "stream",
     "text": [
      "accuracy : 0.820059 , precision : 0.831786 , recall : 0.967595 ,f1 : 0.787343 , roc_auc : 0.618114 \n"
     ]
    }
   ],
   "source": [
    "print(\"accuracy : %f , precision : %f , recall : %f ,f1 : %f , roc_auc : %f \"%(acc,precision,recall,f1,roc_auc))"
   ]
  },
  {
   "cell_type": "code",
   "execution_count": 88,
   "id": "plain-median",
   "metadata": {},
   "outputs": [],
   "source": [
    "############################\n",
    "# Gradient Boosted Tree Classifier\n",
    "############################"
   ]
  },
  {
   "cell_type": "code",
   "execution_count": 89,
   "id": "thousand-germany",
   "metadata": {},
   "outputs": [
    {
     "data": {
      "text/plain": [
       "FEATURES    0\n",
       "TARGET      0\n",
       "dtype: int64"
      ]
     },
     "execution_count": 89,
     "metadata": {},
     "output_type": "execute_result"
    }
   ],
   "source": [
    "train_df_normal.toPandas().isnull().sum()"
   ]
  },
  {
   "cell_type": "code",
   "execution_count": 90,
   "id": "reverse-growing",
   "metadata": {},
   "outputs": [
    {
     "name": "stdout",
     "output_type": "stream",
     "text": [
      "+--------------------+------+--------------------+--------------------+----------+\n",
      "|      SCALEDFEATURES|TARGET|       rawPrediction|         probability|prediction|\n",
      "+--------------------+------+--------------------+--------------------+----------+\n",
      "|(23,[0,1,2,3,4,7,...|     1|[-1.3753786255972...|[0.06004389771423...|       1.0|\n",
      "|(23,[0,1,2,3,4,7,...|     1|[-1.9608090693824...|[0.01942423999882...|       1.0|\n",
      "|(23,[0,1,2,3,4,7,...|     0|[0.70531193077651...|[0.80386432433131...|       0.0|\n",
      "|(23,[0,1,2,3,4,7,...|     1|[-0.8612401001939...|[0.15155197394977...|       1.0|\n",
      "|(23,[0,1,2,3,4,7,...|     0|[0.53066338670381...|[0.74294401177244...|       0.0|\n",
      "+--------------------+------+--------------------+--------------------+----------+\n",
      "only showing top 5 rows\n",
      "\n"
     ]
    }
   ],
   "source": [
    "from pyspark.ml.classification import GBTClassifier\n",
    "\n",
    "# Scaled edilmişi kullandık !!!\n",
    "\n",
    "gbm = GBTClassifier(maxIter= 100, featuresCol=\"SCALEDFEATURES\" ,labelCol=\"TARGET\")\n",
    "gbm_model = gbm.fit(train_df_scaled)\n",
    "y_pred_scaled = gbm_model.transform(test_df_scaled)\n",
    "y_pred_scaled.show(5)"
   ]
  },
  {
   "cell_type": "code",
   "execution_count": 91,
   "id": "floppy-maldives",
   "metadata": {},
   "outputs": [
    {
     "data": {
      "text/plain": [
       "0.8600458865945592"
      ]
     },
     "execution_count": 91,
     "metadata": {},
     "output_type": "execute_result"
    }
   ],
   "source": [
    "# Accuracy\n",
    "\n",
    "y_pred_scaled.filter(y_pred_scaled.TARGET  == y_pred_scaled.prediction).count() / y_pred_scaled.count()"
   ]
  },
  {
   "cell_type": "code",
   "execution_count": 92,
   "id": "starting-leonard",
   "metadata": {},
   "outputs": [],
   "source": [
    "############################\n",
    "# Model Tuning\n",
    "############################"
   ]
  },
  {
   "cell_type": "code",
   "execution_count": 93,
   "id": "settled-highway",
   "metadata": {},
   "outputs": [],
   "source": [
    "evaluator = BinaryClassificationEvaluator(rawPredictionCol=\"prediction\",labelCol=\"TARGET\")"
   ]
  },
  {
   "cell_type": "code",
   "execution_count": 94,
   "id": "ongoing-taylor",
   "metadata": {},
   "outputs": [],
   "source": [
    "from pyspark.ml.tuning import ParamGridBuilder, CrossValidator\n",
    "\n",
    "gbm_params = (ParamGridBuilder()\n",
    "              .addGrid(gbm.maxDepth, [2, 4, 6])\n",
    "              .addGrid(gbm.maxBins, [20, 30, 40])\n",
    "              .addGrid(gbm.maxIter, [10, 20, 30])\n",
    "              .build())"
   ]
  },
  {
   "cell_type": "code",
   "execution_count": 95,
   "id": "sustained-repeat",
   "metadata": {},
   "outputs": [],
   "source": [
    "cv = CrossValidator(estimator=gbm,\n",
    "                    estimatorParamMaps=gbm_params,\n",
    "                    evaluator=evaluator,\n",
    "                    numFolds=5)"
   ]
  },
  {
   "cell_type": "code",
   "execution_count": 96,
   "id": "injured-above",
   "metadata": {},
   "outputs": [],
   "source": [
    "cv_model = cv.fit(train_df_scaled)"
   ]
  },
  {
   "cell_type": "code",
   "execution_count": 97,
   "id": "proper-confidentiality",
   "metadata": {},
   "outputs": [],
   "source": [
    "y_pred_scaled = cv_model.transform(test_df_scaled)"
   ]
  },
  {
   "cell_type": "code",
   "execution_count": 98,
   "id": "recorded-cookie",
   "metadata": {},
   "outputs": [
    {
     "data": {
      "text/plain": [
       "0.8561127499180596"
      ]
     },
     "execution_count": 98,
     "metadata": {},
     "output_type": "execute_result"
    }
   ],
   "source": [
    "y_pred_scaled.filter(y_pred_scaled.TARGET == y_pred_scaled.prediction).count() / y_pred_scaled.count()"
   ]
  },
  {
   "cell_type": "code",
   "execution_count": 99,
   "id": "therapeutic-imperial",
   "metadata": {},
   "outputs": [],
   "source": [
    "# Kontrol edilip başka değişikliklere bakacağım ....\n",
    "\n",
    "sc.stop()"
   ]
  },
  {
   "cell_type": "code",
   "execution_count": null,
   "id": "classical-atlantic",
   "metadata": {},
   "outputs": [],
   "source": []
  }
 ],
 "metadata": {
  "kernelspec": {
   "display_name": "Python 3",
   "language": "python",
   "name": "python3"
  },
  "language_info": {
   "codemirror_mode": {
    "name": "ipython",
    "version": 3
   },
   "file_extension": ".py",
   "mimetype": "text/x-python",
   "name": "python",
   "nbconvert_exporter": "python",
   "pygments_lexer": "ipython3",
   "version": "3.7.7"
  }
 },
 "nbformat": 4,
 "nbformat_minor": 5
}
